{
  "metadata": {
    "kernelspec": {
      "name": "python",
      "display_name": "Python (Pyodide)",
      "language": "python"
    },
    "language_info": {
      "codemirror_mode": {
        "name": "python",
        "version": 3
      },
      "file_extension": ".py",
      "mimetype": "text/x-python",
      "name": "python",
      "nbconvert_exporter": "python",
      "pygments_lexer": "ipython3",
      "version": "3.8"
    }
  },
  "nbformat_minor": 4,
  "nbformat": 4,
  "cells": [
    {
      "cell_type": "markdown",
      "source": "#DATAFRAME PART - 3 (LAST PART) -> Missing Values And Example",
      "metadata": {}
    },
    {
      "cell_type": "markdown",
      "source": "We've seen a preview of how Pandas handles missing values using the None Type and the NumPy and NaN keywords. Missing values are pretty common in data cleaning activities, and missing values can be there for any number of reasons, and I just want to touch on a few of those here. For instance, if you're running a survey and a respondent didn't answer a question, the missing value is actually an omission. This kind of missing data is called missing at random if there are other variables that might be used to predict the variable which is missing. In my work when I deliver surveys I often find that missing data say interest in being involved in a follow-up study, often has some correlation with other data like gender or ethnicity. If there's no relationship to other variables, then we call this data missing completely at random. So these are just two examples of missing data and there's many more. For instance, data might be missing because it wasn't collected. Either because the process responsible for collecting the data such as the researcher, or because it wouldn't make sense if it were to be collected. This last example is extremely common when you start joining DataFrames together from multiple sources such as joining a list of people at a university with a list of offices in the university. Students don't generally have offices but they're still people at the university. So let's take a look at some ways of handling missing data in Pandas. So let's import Pandas as pd.",
      "metadata": {}
    },
    {
      "cell_type": "code",
      "source": "import pandas as pd\ndf = pd.read_csv('students_records_updated.csv')\ndf",
      "metadata": {
        "trusted": true
      },
      "outputs": [
        {
          "name": "stderr",
          "text": "<ipython-input-1-4abe0885b769>:1: DeprecationWarning: \nPyarrow will become a required dependency of pandas in the next major release of pandas (pandas 3.0),\n(to allow more performant data types, such as the Arrow string type, and better interoperability with other libraries)\nbut was not found to be installed on your system.\nIf this would cause problems for you,\nplease provide us feedback at https://github.com/pandas-dev/pandas/issues/54466\n        \n  import pandas as pd\n",
          "output_type": "stream"
        },
        {
          "execution_count": 1,
          "output_type": "execute_result",
          "data": {
            "text/plain": "                Name  Roll No Assignment 1 Submitted  Sessional 1 Marks  \\\n0           John Doe      101                    Yes                 12   \n1         Jane Smith      102                    Yes                 14   \n2    Michael Johnson      103                    NaN                 10   \n3        Emily Davis      104                    NaN                  9   \n4          Chris Lee      105                    Yes                 11   \n5       Olivia Brown      106                    NaN                  8   \n6      Sophia Wilson      107                    Yes                 15   \n7       James Miller      108                    NaN                  9   \n8  Isabella Anderson      109                    Yes                 13   \n9      Daniel Thomas      110                    NaN                 10   \n\n  Assignment 2 Submitted  Sessional 2 Marks  Final Exam Marks  \n0                    NaN                 10                55  \n1                    Yes                 13                60  \n2                    NaN                  8                52  \n3                    Yes                 12                58  \n4                    NaN                  9                48  \n5                    Yes                  7                50  \n6                    Yes                 13                65  \n7                    NaN                  8                55  \n8                    Yes                 12                62  \n9                    NaN                 10                53  ",
            "text/html": "<div>\n<style scoped>\n    .dataframe tbody tr th:only-of-type {\n        vertical-align: middle;\n    }\n\n    .dataframe tbody tr th {\n        vertical-align: top;\n    }\n\n    .dataframe thead th {\n        text-align: right;\n    }\n</style>\n<table border=\"1\" class=\"dataframe\">\n  <thead>\n    <tr style=\"text-align: right;\">\n      <th></th>\n      <th>Name</th>\n      <th>Roll No</th>\n      <th>Assignment 1 Submitted</th>\n      <th>Sessional 1 Marks</th>\n      <th>Assignment 2 Submitted</th>\n      <th>Sessional 2 Marks</th>\n      <th>Final Exam Marks</th>\n    </tr>\n  </thead>\n  <tbody>\n    <tr>\n      <th>0</th>\n      <td>John Doe</td>\n      <td>101</td>\n      <td>Yes</td>\n      <td>12</td>\n      <td>NaN</td>\n      <td>10</td>\n      <td>55</td>\n    </tr>\n    <tr>\n      <th>1</th>\n      <td>Jane Smith</td>\n      <td>102</td>\n      <td>Yes</td>\n      <td>14</td>\n      <td>Yes</td>\n      <td>13</td>\n      <td>60</td>\n    </tr>\n    <tr>\n      <th>2</th>\n      <td>Michael Johnson</td>\n      <td>103</td>\n      <td>NaN</td>\n      <td>10</td>\n      <td>NaN</td>\n      <td>8</td>\n      <td>52</td>\n    </tr>\n    <tr>\n      <th>3</th>\n      <td>Emily Davis</td>\n      <td>104</td>\n      <td>NaN</td>\n      <td>9</td>\n      <td>Yes</td>\n      <td>12</td>\n      <td>58</td>\n    </tr>\n    <tr>\n      <th>4</th>\n      <td>Chris Lee</td>\n      <td>105</td>\n      <td>Yes</td>\n      <td>11</td>\n      <td>NaN</td>\n      <td>9</td>\n      <td>48</td>\n    </tr>\n    <tr>\n      <th>5</th>\n      <td>Olivia Brown</td>\n      <td>106</td>\n      <td>NaN</td>\n      <td>8</td>\n      <td>Yes</td>\n      <td>7</td>\n      <td>50</td>\n    </tr>\n    <tr>\n      <th>6</th>\n      <td>Sophia Wilson</td>\n      <td>107</td>\n      <td>Yes</td>\n      <td>15</td>\n      <td>Yes</td>\n      <td>13</td>\n      <td>65</td>\n    </tr>\n    <tr>\n      <th>7</th>\n      <td>James Miller</td>\n      <td>108</td>\n      <td>NaN</td>\n      <td>9</td>\n      <td>NaN</td>\n      <td>8</td>\n      <td>55</td>\n    </tr>\n    <tr>\n      <th>8</th>\n      <td>Isabella Anderson</td>\n      <td>109</td>\n      <td>Yes</td>\n      <td>13</td>\n      <td>Yes</td>\n      <td>12</td>\n      <td>62</td>\n    </tr>\n    <tr>\n      <th>9</th>\n      <td>Daniel Thomas</td>\n      <td>110</td>\n      <td>NaN</td>\n      <td>10</td>\n      <td>NaN</td>\n      <td>10</td>\n      <td>53</td>\n    </tr>\n  </tbody>\n</table>\n</div>"
          },
          "metadata": {}
        }
      ],
      "execution_count": 1
    },
    {
      "cell_type": "code",
      "source": "#Let's use is_null to create a boolean mask of dataframe. It will check it on each and every part of data.\nis_null_mask = df.isnull()\nis_null_mask",
      "metadata": {
        "trusted": true
      },
      "outputs": [
        {
          "execution_count": 2,
          "output_type": "execute_result",
          "data": {
            "text/plain": "    Name  Roll No  Assignment 1 Submitted  Sessional 1 Marks  \\\n0  False    False                   False              False   \n1  False    False                   False              False   \n2  False    False                    True              False   \n3  False    False                    True              False   \n4  False    False                   False              False   \n5  False    False                    True              False   \n6  False    False                   False              False   \n7  False    False                    True              False   \n8  False    False                   False              False   \n9  False    False                    True              False   \n\n   Assignment 2 Submitted  Sessional 2 Marks  Final Exam Marks  \n0                    True              False             False  \n1                   False              False             False  \n2                    True              False             False  \n3                   False              False             False  \n4                    True              False             False  \n5                   False              False             False  \n6                   False              False             False  \n7                    True              False             False  \n8                   False              False             False  \n9                    True              False             False  ",
            "text/html": "<div>\n<style scoped>\n    .dataframe tbody tr th:only-of-type {\n        vertical-align: middle;\n    }\n\n    .dataframe tbody tr th {\n        vertical-align: top;\n    }\n\n    .dataframe thead th {\n        text-align: right;\n    }\n</style>\n<table border=\"1\" class=\"dataframe\">\n  <thead>\n    <tr style=\"text-align: right;\">\n      <th></th>\n      <th>Name</th>\n      <th>Roll No</th>\n      <th>Assignment 1 Submitted</th>\n      <th>Sessional 1 Marks</th>\n      <th>Assignment 2 Submitted</th>\n      <th>Sessional 2 Marks</th>\n      <th>Final Exam Marks</th>\n    </tr>\n  </thead>\n  <tbody>\n    <tr>\n      <th>0</th>\n      <td>False</td>\n      <td>False</td>\n      <td>False</td>\n      <td>False</td>\n      <td>True</td>\n      <td>False</td>\n      <td>False</td>\n    </tr>\n    <tr>\n      <th>1</th>\n      <td>False</td>\n      <td>False</td>\n      <td>False</td>\n      <td>False</td>\n      <td>False</td>\n      <td>False</td>\n      <td>False</td>\n    </tr>\n    <tr>\n      <th>2</th>\n      <td>False</td>\n      <td>False</td>\n      <td>True</td>\n      <td>False</td>\n      <td>True</td>\n      <td>False</td>\n      <td>False</td>\n    </tr>\n    <tr>\n      <th>3</th>\n      <td>False</td>\n      <td>False</td>\n      <td>True</td>\n      <td>False</td>\n      <td>False</td>\n      <td>False</td>\n      <td>False</td>\n    </tr>\n    <tr>\n      <th>4</th>\n      <td>False</td>\n      <td>False</td>\n      <td>False</td>\n      <td>False</td>\n      <td>True</td>\n      <td>False</td>\n      <td>False</td>\n    </tr>\n    <tr>\n      <th>5</th>\n      <td>False</td>\n      <td>False</td>\n      <td>True</td>\n      <td>False</td>\n      <td>False</td>\n      <td>False</td>\n      <td>False</td>\n    </tr>\n    <tr>\n      <th>6</th>\n      <td>False</td>\n      <td>False</td>\n      <td>False</td>\n      <td>False</td>\n      <td>False</td>\n      <td>False</td>\n      <td>False</td>\n    </tr>\n    <tr>\n      <th>7</th>\n      <td>False</td>\n      <td>False</td>\n      <td>True</td>\n      <td>False</td>\n      <td>True</td>\n      <td>False</td>\n      <td>False</td>\n    </tr>\n    <tr>\n      <th>8</th>\n      <td>False</td>\n      <td>False</td>\n      <td>False</td>\n      <td>False</td>\n      <td>False</td>\n      <td>False</td>\n      <td>False</td>\n    </tr>\n    <tr>\n      <th>9</th>\n      <td>False</td>\n      <td>False</td>\n      <td>True</td>\n      <td>False</td>\n      <td>True</td>\n      <td>False</td>\n      <td>False</td>\n    </tr>\n  </tbody>\n</table>\n</div>"
          },
          "metadata": {}
        }
      ],
      "execution_count": 2
    },
    {
      "cell_type": "code",
      "source": "#Now we can use dropna to drop each and every row which has a missing value.\n#We will see students which have submitted all of assignments.\ndf.dropna()",
      "metadata": {
        "trusted": true
      },
      "outputs": [
        {
          "execution_count": 4,
          "output_type": "execute_result",
          "data": {
            "text/plain": "                Name  Roll No Assignment 1 Submitted  Sessional 1 Marks  \\\n1         Jane Smith      102                    Yes                 14   \n6      Sophia Wilson      107                    Yes                 15   \n8  Isabella Anderson      109                    Yes                 13   \n\n  Assignment 2 Submitted  Sessional 2 Marks  Final Exam Marks  \n1                    Yes                 13                60  \n6                    Yes                 13                65  \n8                    Yes                 12                62  ",
            "text/html": "<div>\n<style scoped>\n    .dataframe tbody tr th:only-of-type {\n        vertical-align: middle;\n    }\n\n    .dataframe tbody tr th {\n        vertical-align: top;\n    }\n\n    .dataframe thead th {\n        text-align: right;\n    }\n</style>\n<table border=\"1\" class=\"dataframe\">\n  <thead>\n    <tr style=\"text-align: right;\">\n      <th></th>\n      <th>Name</th>\n      <th>Roll No</th>\n      <th>Assignment 1 Submitted</th>\n      <th>Sessional 1 Marks</th>\n      <th>Assignment 2 Submitted</th>\n      <th>Sessional 2 Marks</th>\n      <th>Final Exam Marks</th>\n    </tr>\n  </thead>\n  <tbody>\n    <tr>\n      <th>1</th>\n      <td>Jane Smith</td>\n      <td>102</td>\n      <td>Yes</td>\n      <td>14</td>\n      <td>Yes</td>\n      <td>13</td>\n      <td>60</td>\n    </tr>\n    <tr>\n      <th>6</th>\n      <td>Sophia Wilson</td>\n      <td>107</td>\n      <td>Yes</td>\n      <td>15</td>\n      <td>Yes</td>\n      <td>13</td>\n      <td>65</td>\n    </tr>\n    <tr>\n      <th>8</th>\n      <td>Isabella Anderson</td>\n      <td>109</td>\n      <td>Yes</td>\n      <td>13</td>\n      <td>Yes</td>\n      <td>12</td>\n      <td>62</td>\n    </tr>\n  </tbody>\n</table>\n</div>"
          },
          "metadata": {}
        }
      ],
      "execution_count": 4
    },
    {
      "cell_type": "markdown",
      "source": "We can set all the missing values to a single value called a scalar if you want to make changes in original dataframe you can use inplace and set it to True",
      "metadata": {}
    },
    {
      "cell_type": "code",
      "source": "df.fillna(\"Not Given\",inplace=True)\ndf",
      "metadata": {
        "trusted": true
      },
      "outputs": [
        {
          "execution_count": 3,
          "output_type": "execute_result",
          "data": {
            "text/plain": "                Name  Roll No Assignment 1 Submitted  Sessional 1 Marks  \\\n0           John Doe      101                    Yes                 12   \n1         Jane Smith      102                    Yes                 14   \n2    Michael Johnson      103              Not Given                 10   \n3        Emily Davis      104              Not Given                  9   \n4          Chris Lee      105                    Yes                 11   \n5       Olivia Brown      106              Not Given                  8   \n6      Sophia Wilson      107                    Yes                 15   \n7       James Miller      108              Not Given                  9   \n8  Isabella Anderson      109                    Yes                 13   \n9      Daniel Thomas      110              Not Given                 10   \n\n  Assignment 2 Submitted  Sessional 2 Marks  Final Exam Marks  \n0              Not Given                 10                55  \n1                    Yes                 13                60  \n2              Not Given                  8                52  \n3                    Yes                 12                58  \n4              Not Given                  9                48  \n5                    Yes                  7                50  \n6                    Yes                 13                65  \n7              Not Given                  8                55  \n8                    Yes                 12                62  \n9              Not Given                 10                53  ",
            "text/html": "<div>\n<style scoped>\n    .dataframe tbody tr th:only-of-type {\n        vertical-align: middle;\n    }\n\n    .dataframe tbody tr th {\n        vertical-align: top;\n    }\n\n    .dataframe thead th {\n        text-align: right;\n    }\n</style>\n<table border=\"1\" class=\"dataframe\">\n  <thead>\n    <tr style=\"text-align: right;\">\n      <th></th>\n      <th>Name</th>\n      <th>Roll No</th>\n      <th>Assignment 1 Submitted</th>\n      <th>Sessional 1 Marks</th>\n      <th>Assignment 2 Submitted</th>\n      <th>Sessional 2 Marks</th>\n      <th>Final Exam Marks</th>\n    </tr>\n  </thead>\n  <tbody>\n    <tr>\n      <th>0</th>\n      <td>John Doe</td>\n      <td>101</td>\n      <td>Yes</td>\n      <td>12</td>\n      <td>Not Given</td>\n      <td>10</td>\n      <td>55</td>\n    </tr>\n    <tr>\n      <th>1</th>\n      <td>Jane Smith</td>\n      <td>102</td>\n      <td>Yes</td>\n      <td>14</td>\n      <td>Yes</td>\n      <td>13</td>\n      <td>60</td>\n    </tr>\n    <tr>\n      <th>2</th>\n      <td>Michael Johnson</td>\n      <td>103</td>\n      <td>Not Given</td>\n      <td>10</td>\n      <td>Not Given</td>\n      <td>8</td>\n      <td>52</td>\n    </tr>\n    <tr>\n      <th>3</th>\n      <td>Emily Davis</td>\n      <td>104</td>\n      <td>Not Given</td>\n      <td>9</td>\n      <td>Yes</td>\n      <td>12</td>\n      <td>58</td>\n    </tr>\n    <tr>\n      <th>4</th>\n      <td>Chris Lee</td>\n      <td>105</td>\n      <td>Yes</td>\n      <td>11</td>\n      <td>Not Given</td>\n      <td>9</td>\n      <td>48</td>\n    </tr>\n    <tr>\n      <th>5</th>\n      <td>Olivia Brown</td>\n      <td>106</td>\n      <td>Not Given</td>\n      <td>8</td>\n      <td>Yes</td>\n      <td>7</td>\n      <td>50</td>\n    </tr>\n    <tr>\n      <th>6</th>\n      <td>Sophia Wilson</td>\n      <td>107</td>\n      <td>Yes</td>\n      <td>15</td>\n      <td>Yes</td>\n      <td>13</td>\n      <td>65</td>\n    </tr>\n    <tr>\n      <th>7</th>\n      <td>James Miller</td>\n      <td>108</td>\n      <td>Not Given</td>\n      <td>9</td>\n      <td>Not Given</td>\n      <td>8</td>\n      <td>55</td>\n    </tr>\n    <tr>\n      <th>8</th>\n      <td>Isabella Anderson</td>\n      <td>109</td>\n      <td>Yes</td>\n      <td>13</td>\n      <td>Yes</td>\n      <td>12</td>\n      <td>62</td>\n    </tr>\n    <tr>\n      <th>9</th>\n      <td>Daniel Thomas</td>\n      <td>110</td>\n      <td>Not Given</td>\n      <td>10</td>\n      <td>Not Given</td>\n      <td>10</td>\n      <td>53</td>\n    </tr>\n  </tbody>\n</table>\n</div>"
          },
          "metadata": {}
        }
      ],
      "execution_count": 3
    },
    {
      "cell_type": "code",
      "source": "#Set Roll No as the index and since roll no are already sorted we don't need to use sort_index.\ncols=df.columns\ncols",
      "metadata": {
        "trusted": true
      },
      "outputs": [
        {
          "execution_count": 4,
          "output_type": "execute_result",
          "data": {
            "text/plain": "Index(['Name', 'Roll No', 'Assignment 1 Submitted', 'Sessional 1 Marks',\n       'Assignment 2 Submitted', 'Sessional 2 Marks', 'Final Exam Marks'],\n      dtype='object')"
          },
          "metadata": {}
        }
      ],
      "execution_count": 4
    },
    {
      "cell_type": "code",
      "source": "#Set Roll No as the index\n",
      "metadata": {
        "trusted": true
      },
      "outputs": [],
      "execution_count": 6
    },
    {
      "cell_type": "code",
      "source": "df=df.set_index('Roll No')\ndf",
      "metadata": {
        "trusted": true
      },
      "outputs": [
        {
          "execution_count": 5,
          "output_type": "execute_result",
          "data": {
            "text/plain": "                      Name Assignment 1 Submitted  Sessional 1 Marks  \\\nRoll No                                                                \n101               John Doe                    Yes                 12   \n102             Jane Smith                    Yes                 14   \n103        Michael Johnson              Not Given                 10   \n104            Emily Davis              Not Given                  9   \n105              Chris Lee                    Yes                 11   \n106           Olivia Brown              Not Given                  8   \n107          Sophia Wilson                    Yes                 15   \n108           James Miller              Not Given                  9   \n109      Isabella Anderson                    Yes                 13   \n110          Daniel Thomas              Not Given                 10   \n\n        Assignment 2 Submitted  Sessional 2 Marks  Final Exam Marks  \nRoll No                                                              \n101                  Not Given                 10                55  \n102                        Yes                 13                60  \n103                  Not Given                  8                52  \n104                        Yes                 12                58  \n105                  Not Given                  9                48  \n106                        Yes                  7                50  \n107                        Yes                 13                65  \n108                  Not Given                  8                55  \n109                        Yes                 12                62  \n110                  Not Given                 10                53  ",
            "text/html": "<div>\n<style scoped>\n    .dataframe tbody tr th:only-of-type {\n        vertical-align: middle;\n    }\n\n    .dataframe tbody tr th {\n        vertical-align: top;\n    }\n\n    .dataframe thead th {\n        text-align: right;\n    }\n</style>\n<table border=\"1\" class=\"dataframe\">\n  <thead>\n    <tr style=\"text-align: right;\">\n      <th></th>\n      <th>Name</th>\n      <th>Assignment 1 Submitted</th>\n      <th>Sessional 1 Marks</th>\n      <th>Assignment 2 Submitted</th>\n      <th>Sessional 2 Marks</th>\n      <th>Final Exam Marks</th>\n    </tr>\n    <tr>\n      <th>Roll No</th>\n      <th></th>\n      <th></th>\n      <th></th>\n      <th></th>\n      <th></th>\n      <th></th>\n    </tr>\n  </thead>\n  <tbody>\n    <tr>\n      <th>101</th>\n      <td>John Doe</td>\n      <td>Yes</td>\n      <td>12</td>\n      <td>Not Given</td>\n      <td>10</td>\n      <td>55</td>\n    </tr>\n    <tr>\n      <th>102</th>\n      <td>Jane Smith</td>\n      <td>Yes</td>\n      <td>14</td>\n      <td>Yes</td>\n      <td>13</td>\n      <td>60</td>\n    </tr>\n    <tr>\n      <th>103</th>\n      <td>Michael Johnson</td>\n      <td>Not Given</td>\n      <td>10</td>\n      <td>Not Given</td>\n      <td>8</td>\n      <td>52</td>\n    </tr>\n    <tr>\n      <th>104</th>\n      <td>Emily Davis</td>\n      <td>Not Given</td>\n      <td>9</td>\n      <td>Yes</td>\n      <td>12</td>\n      <td>58</td>\n    </tr>\n    <tr>\n      <th>105</th>\n      <td>Chris Lee</td>\n      <td>Yes</td>\n      <td>11</td>\n      <td>Not Given</td>\n      <td>9</td>\n      <td>48</td>\n    </tr>\n    <tr>\n      <th>106</th>\n      <td>Olivia Brown</td>\n      <td>Not Given</td>\n      <td>8</td>\n      <td>Yes</td>\n      <td>7</td>\n      <td>50</td>\n    </tr>\n    <tr>\n      <th>107</th>\n      <td>Sophia Wilson</td>\n      <td>Yes</td>\n      <td>15</td>\n      <td>Yes</td>\n      <td>13</td>\n      <td>65</td>\n    </tr>\n    <tr>\n      <th>108</th>\n      <td>James Miller</td>\n      <td>Not Given</td>\n      <td>9</td>\n      <td>Not Given</td>\n      <td>8</td>\n      <td>55</td>\n    </tr>\n    <tr>\n      <th>109</th>\n      <td>Isabella Anderson</td>\n      <td>Yes</td>\n      <td>13</td>\n      <td>Yes</td>\n      <td>12</td>\n      <td>62</td>\n    </tr>\n    <tr>\n      <th>110</th>\n      <td>Daniel Thomas</td>\n      <td>Not Given</td>\n      <td>10</td>\n      <td>Not Given</td>\n      <td>10</td>\n      <td>53</td>\n    </tr>\n  </tbody>\n</table>\n</div>"
          },
          "metadata": {}
        }
      ],
      "execution_count": 5
    },
    {
      "cell_type": "code",
      "source": "#Let's sort acc to sessional marks.\ndf.columns\n",
      "metadata": {
        "trusted": true
      },
      "outputs": [
        {
          "execution_count": 12,
          "output_type": "execute_result",
          "data": {
            "text/plain": "Index(['Name', 'Assignment 1 Submitted', 'Assignment 2 Submitted',\n       'Sessional 2 Marks', 'Final Exam Marks'],\n      dtype='object')"
          },
          "metadata": {}
        }
      ],
      "execution_count": 12
    },
    {
      "cell_type": "code",
      "source": "df.reset_index()",
      "metadata": {
        "trusted": true
      },
      "outputs": [
        {
          "execution_count": 6,
          "output_type": "execute_result",
          "data": {
            "text/plain": "   Roll No               Name Assignment 1 Submitted  Sessional 1 Marks  \\\n0      101           John Doe                    Yes                 12   \n1      102         Jane Smith                    Yes                 14   \n2      103    Michael Johnson              Not Given                 10   \n3      104        Emily Davis              Not Given                  9   \n4      105          Chris Lee                    Yes                 11   \n5      106       Olivia Brown              Not Given                  8   \n6      107      Sophia Wilson                    Yes                 15   \n7      108       James Miller              Not Given                  9   \n8      109  Isabella Anderson                    Yes                 13   \n9      110      Daniel Thomas              Not Given                 10   \n\n  Assignment 2 Submitted  Sessional 2 Marks  Final Exam Marks  \n0              Not Given                 10                55  \n1                    Yes                 13                60  \n2              Not Given                  8                52  \n3                    Yes                 12                58  \n4              Not Given                  9                48  \n5                    Yes                  7                50  \n6                    Yes                 13                65  \n7              Not Given                  8                55  \n8                    Yes                 12                62  \n9              Not Given                 10                53  ",
            "text/html": "<div>\n<style scoped>\n    .dataframe tbody tr th:only-of-type {\n        vertical-align: middle;\n    }\n\n    .dataframe tbody tr th {\n        vertical-align: top;\n    }\n\n    .dataframe thead th {\n        text-align: right;\n    }\n</style>\n<table border=\"1\" class=\"dataframe\">\n  <thead>\n    <tr style=\"text-align: right;\">\n      <th></th>\n      <th>Roll No</th>\n      <th>Name</th>\n      <th>Assignment 1 Submitted</th>\n      <th>Sessional 1 Marks</th>\n      <th>Assignment 2 Submitted</th>\n      <th>Sessional 2 Marks</th>\n      <th>Final Exam Marks</th>\n    </tr>\n  </thead>\n  <tbody>\n    <tr>\n      <th>0</th>\n      <td>101</td>\n      <td>John Doe</td>\n      <td>Yes</td>\n      <td>12</td>\n      <td>Not Given</td>\n      <td>10</td>\n      <td>55</td>\n    </tr>\n    <tr>\n      <th>1</th>\n      <td>102</td>\n      <td>Jane Smith</td>\n      <td>Yes</td>\n      <td>14</td>\n      <td>Yes</td>\n      <td>13</td>\n      <td>60</td>\n    </tr>\n    <tr>\n      <th>2</th>\n      <td>103</td>\n      <td>Michael Johnson</td>\n      <td>Not Given</td>\n      <td>10</td>\n      <td>Not Given</td>\n      <td>8</td>\n      <td>52</td>\n    </tr>\n    <tr>\n      <th>3</th>\n      <td>104</td>\n      <td>Emily Davis</td>\n      <td>Not Given</td>\n      <td>9</td>\n      <td>Yes</td>\n      <td>12</td>\n      <td>58</td>\n    </tr>\n    <tr>\n      <th>4</th>\n      <td>105</td>\n      <td>Chris Lee</td>\n      <td>Yes</td>\n      <td>11</td>\n      <td>Not Given</td>\n      <td>9</td>\n      <td>48</td>\n    </tr>\n    <tr>\n      <th>5</th>\n      <td>106</td>\n      <td>Olivia Brown</td>\n      <td>Not Given</td>\n      <td>8</td>\n      <td>Yes</td>\n      <td>7</td>\n      <td>50</td>\n    </tr>\n    <tr>\n      <th>6</th>\n      <td>107</td>\n      <td>Sophia Wilson</td>\n      <td>Yes</td>\n      <td>15</td>\n      <td>Yes</td>\n      <td>13</td>\n      <td>65</td>\n    </tr>\n    <tr>\n      <th>7</th>\n      <td>108</td>\n      <td>James Miller</td>\n      <td>Not Given</td>\n      <td>9</td>\n      <td>Not Given</td>\n      <td>8</td>\n      <td>55</td>\n    </tr>\n    <tr>\n      <th>8</th>\n      <td>109</td>\n      <td>Isabella Anderson</td>\n      <td>Yes</td>\n      <td>13</td>\n      <td>Yes</td>\n      <td>12</td>\n      <td>62</td>\n    </tr>\n    <tr>\n      <th>9</th>\n      <td>110</td>\n      <td>Daniel Thomas</td>\n      <td>Not Given</td>\n      <td>10</td>\n      <td>Not Given</td>\n      <td>10</td>\n      <td>53</td>\n    </tr>\n  </tbody>\n</table>\n</div>"
          },
          "metadata": {}
        }
      ],
      "execution_count": 6
    },
    {
      "cell_type": "markdown",
      "source": "You can see Sessional 1 Marks are often same for two students so we can set names and roll no as indexes using multi level indexing.",
      "metadata": {}
    },
    {
      "cell_type": "code",
      "source": "df=df.reset_index()\ndf",
      "metadata": {
        "trusted": true
      },
      "outputs": [
        {
          "execution_count": 7,
          "output_type": "execute_result",
          "data": {
            "text/plain": "   Roll No               Name Assignment 1 Submitted  Sessional 1 Marks  \\\n0      101           John Doe                    Yes                 12   \n1      102         Jane Smith                    Yes                 14   \n2      103    Michael Johnson              Not Given                 10   \n3      104        Emily Davis              Not Given                  9   \n4      105          Chris Lee                    Yes                 11   \n5      106       Olivia Brown              Not Given                  8   \n6      107      Sophia Wilson                    Yes                 15   \n7      108       James Miller              Not Given                  9   \n8      109  Isabella Anderson                    Yes                 13   \n9      110      Daniel Thomas              Not Given                 10   \n\n  Assignment 2 Submitted  Sessional 2 Marks  Final Exam Marks  \n0              Not Given                 10                55  \n1                    Yes                 13                60  \n2              Not Given                  8                52  \n3                    Yes                 12                58  \n4              Not Given                  9                48  \n5                    Yes                  7                50  \n6                    Yes                 13                65  \n7              Not Given                  8                55  \n8                    Yes                 12                62  \n9              Not Given                 10                53  ",
            "text/html": "<div>\n<style scoped>\n    .dataframe tbody tr th:only-of-type {\n        vertical-align: middle;\n    }\n\n    .dataframe tbody tr th {\n        vertical-align: top;\n    }\n\n    .dataframe thead th {\n        text-align: right;\n    }\n</style>\n<table border=\"1\" class=\"dataframe\">\n  <thead>\n    <tr style=\"text-align: right;\">\n      <th></th>\n      <th>Roll No</th>\n      <th>Name</th>\n      <th>Assignment 1 Submitted</th>\n      <th>Sessional 1 Marks</th>\n      <th>Assignment 2 Submitted</th>\n      <th>Sessional 2 Marks</th>\n      <th>Final Exam Marks</th>\n    </tr>\n  </thead>\n  <tbody>\n    <tr>\n      <th>0</th>\n      <td>101</td>\n      <td>John Doe</td>\n      <td>Yes</td>\n      <td>12</td>\n      <td>Not Given</td>\n      <td>10</td>\n      <td>55</td>\n    </tr>\n    <tr>\n      <th>1</th>\n      <td>102</td>\n      <td>Jane Smith</td>\n      <td>Yes</td>\n      <td>14</td>\n      <td>Yes</td>\n      <td>13</td>\n      <td>60</td>\n    </tr>\n    <tr>\n      <th>2</th>\n      <td>103</td>\n      <td>Michael Johnson</td>\n      <td>Not Given</td>\n      <td>10</td>\n      <td>Not Given</td>\n      <td>8</td>\n      <td>52</td>\n    </tr>\n    <tr>\n      <th>3</th>\n      <td>104</td>\n      <td>Emily Davis</td>\n      <td>Not Given</td>\n      <td>9</td>\n      <td>Yes</td>\n      <td>12</td>\n      <td>58</td>\n    </tr>\n    <tr>\n      <th>4</th>\n      <td>105</td>\n      <td>Chris Lee</td>\n      <td>Yes</td>\n      <td>11</td>\n      <td>Not Given</td>\n      <td>9</td>\n      <td>48</td>\n    </tr>\n    <tr>\n      <th>5</th>\n      <td>106</td>\n      <td>Olivia Brown</td>\n      <td>Not Given</td>\n      <td>8</td>\n      <td>Yes</td>\n      <td>7</td>\n      <td>50</td>\n    </tr>\n    <tr>\n      <th>6</th>\n      <td>107</td>\n      <td>Sophia Wilson</td>\n      <td>Yes</td>\n      <td>15</td>\n      <td>Yes</td>\n      <td>13</td>\n      <td>65</td>\n    </tr>\n    <tr>\n      <th>7</th>\n      <td>108</td>\n      <td>James Miller</td>\n      <td>Not Given</td>\n      <td>9</td>\n      <td>Not Given</td>\n      <td>8</td>\n      <td>55</td>\n    </tr>\n    <tr>\n      <th>8</th>\n      <td>109</td>\n      <td>Isabella Anderson</td>\n      <td>Yes</td>\n      <td>13</td>\n      <td>Yes</td>\n      <td>12</td>\n      <td>62</td>\n    </tr>\n    <tr>\n      <th>9</th>\n      <td>110</td>\n      <td>Daniel Thomas</td>\n      <td>Not Given</td>\n      <td>10</td>\n      <td>Not Given</td>\n      <td>10</td>\n      <td>53</td>\n    </tr>\n  </tbody>\n</table>\n</div>"
          },
          "metadata": {}
        }
      ],
      "execution_count": 7
    },
    {
      "cell_type": "code",
      "source": "#So now we can set Roll No and name as index\ndf=df.set_index(['Roll No','Name'])\ndf",
      "metadata": {
        "trusted": true
      },
      "outputs": [
        {
          "execution_count": 8,
          "output_type": "execute_result",
          "data": {
            "text/plain": "                          Assignment 1 Submitted  Sessional 1 Marks  \\\nRoll No Name                                                          \n101     John Doe                             Yes                 12   \n102     Jane Smith                           Yes                 14   \n103     Michael Johnson                Not Given                 10   \n104     Emily Davis                    Not Given                  9   \n105     Chris Lee                            Yes                 11   \n106     Olivia Brown                   Not Given                  8   \n107     Sophia Wilson                        Yes                 15   \n108     James Miller                   Not Given                  9   \n109     Isabella Anderson                    Yes                 13   \n110     Daniel Thomas                  Not Given                 10   \n\n                          Assignment 2 Submitted  Sessional 2 Marks  \\\nRoll No Name                                                          \n101     John Doe                       Not Given                 10   \n102     Jane Smith                           Yes                 13   \n103     Michael Johnson                Not Given                  8   \n104     Emily Davis                          Yes                 12   \n105     Chris Lee                      Not Given                  9   \n106     Olivia Brown                         Yes                  7   \n107     Sophia Wilson                        Yes                 13   \n108     James Miller                   Not Given                  8   \n109     Isabella Anderson                    Yes                 12   \n110     Daniel Thomas                  Not Given                 10   \n\n                           Final Exam Marks  \nRoll No Name                                 \n101     John Doe                         55  \n102     Jane Smith                       60  \n103     Michael Johnson                  52  \n104     Emily Davis                      58  \n105     Chris Lee                        48  \n106     Olivia Brown                     50  \n107     Sophia Wilson                    65  \n108     James Miller                     55  \n109     Isabella Anderson                62  \n110     Daniel Thomas                    53  ",
            "text/html": "<div>\n<style scoped>\n    .dataframe tbody tr th:only-of-type {\n        vertical-align: middle;\n    }\n\n    .dataframe tbody tr th {\n        vertical-align: top;\n    }\n\n    .dataframe thead th {\n        text-align: right;\n    }\n</style>\n<table border=\"1\" class=\"dataframe\">\n  <thead>\n    <tr style=\"text-align: right;\">\n      <th></th>\n      <th></th>\n      <th>Assignment 1 Submitted</th>\n      <th>Sessional 1 Marks</th>\n      <th>Assignment 2 Submitted</th>\n      <th>Sessional 2 Marks</th>\n      <th>Final Exam Marks</th>\n    </tr>\n    <tr>\n      <th>Roll No</th>\n      <th>Name</th>\n      <th></th>\n      <th></th>\n      <th></th>\n      <th></th>\n      <th></th>\n    </tr>\n  </thead>\n  <tbody>\n    <tr>\n      <th>101</th>\n      <th>John Doe</th>\n      <td>Yes</td>\n      <td>12</td>\n      <td>Not Given</td>\n      <td>10</td>\n      <td>55</td>\n    </tr>\n    <tr>\n      <th>102</th>\n      <th>Jane Smith</th>\n      <td>Yes</td>\n      <td>14</td>\n      <td>Yes</td>\n      <td>13</td>\n      <td>60</td>\n    </tr>\n    <tr>\n      <th>103</th>\n      <th>Michael Johnson</th>\n      <td>Not Given</td>\n      <td>10</td>\n      <td>Not Given</td>\n      <td>8</td>\n      <td>52</td>\n    </tr>\n    <tr>\n      <th>104</th>\n      <th>Emily Davis</th>\n      <td>Not Given</td>\n      <td>9</td>\n      <td>Yes</td>\n      <td>12</td>\n      <td>58</td>\n    </tr>\n    <tr>\n      <th>105</th>\n      <th>Chris Lee</th>\n      <td>Yes</td>\n      <td>11</td>\n      <td>Not Given</td>\n      <td>9</td>\n      <td>48</td>\n    </tr>\n    <tr>\n      <th>106</th>\n      <th>Olivia Brown</th>\n      <td>Not Given</td>\n      <td>8</td>\n      <td>Yes</td>\n      <td>7</td>\n      <td>50</td>\n    </tr>\n    <tr>\n      <th>107</th>\n      <th>Sophia Wilson</th>\n      <td>Yes</td>\n      <td>15</td>\n      <td>Yes</td>\n      <td>13</td>\n      <td>65</td>\n    </tr>\n    <tr>\n      <th>108</th>\n      <th>James Miller</th>\n      <td>Not Given</td>\n      <td>9</td>\n      <td>Not Given</td>\n      <td>8</td>\n      <td>55</td>\n    </tr>\n    <tr>\n      <th>109</th>\n      <th>Isabella Anderson</th>\n      <td>Yes</td>\n      <td>13</td>\n      <td>Yes</td>\n      <td>12</td>\n      <td>62</td>\n    </tr>\n    <tr>\n      <th>110</th>\n      <th>Daniel Thomas</th>\n      <td>Not Given</td>\n      <td>10</td>\n      <td>Not Given</td>\n      <td>10</td>\n      <td>53</td>\n    </tr>\n  </tbody>\n</table>\n</div>"
          },
          "metadata": {}
        }
      ],
      "execution_count": 8
    },
    {
      "cell_type": "code",
      "source": "#Now we will learn how to replace data in a dataframe\ngrades = pd.DataFrame({'Shaurya Mittal':['A','B+','A','B'],\n                       'Sachin Chauhan':['B','A','B','A'],\n                       'Madhur Kaushik':['B+','B','B','A'],\n                      })\ngrades",
      "metadata": {
        "trusted": true
      },
      "outputs": [
        {
          "execution_count": 10,
          "output_type": "execute_result",
          "data": {
            "text/plain": "  Shaurya Mittal Sachin Chauhan Madhur Kaushik\n0              A              B             B+\n1             B+              A              B\n2              A              B              B\n3              B              A              A",
            "text/html": "<div>\n<style scoped>\n    .dataframe tbody tr th:only-of-type {\n        vertical-align: middle;\n    }\n\n    .dataframe tbody tr th {\n        vertical-align: top;\n    }\n\n    .dataframe thead th {\n        text-align: right;\n    }\n</style>\n<table border=\"1\" class=\"dataframe\">\n  <thead>\n    <tr style=\"text-align: right;\">\n      <th></th>\n      <th>Shaurya Mittal</th>\n      <th>Sachin Chauhan</th>\n      <th>Madhur Kaushik</th>\n    </tr>\n  </thead>\n  <tbody>\n    <tr>\n      <th>0</th>\n      <td>A</td>\n      <td>B</td>\n      <td>B+</td>\n    </tr>\n    <tr>\n      <th>1</th>\n      <td>B+</td>\n      <td>A</td>\n      <td>B</td>\n    </tr>\n    <tr>\n      <th>2</th>\n      <td>A</td>\n      <td>B</td>\n      <td>B</td>\n    </tr>\n    <tr>\n      <th>3</th>\n      <td>B</td>\n      <td>A</td>\n      <td>A</td>\n    </tr>\n  </tbody>\n</table>\n</div>"
          },
          "metadata": {}
        }
      ],
      "execution_count": 10
    },
    {
      "cell_type": "code",
      "source": "#Let's Replace All B+ with A-\ngrades.replace('B+','A-')\n",
      "metadata": {
        "trusted": true
      },
      "outputs": [
        {
          "execution_count": 11,
          "output_type": "execute_result",
          "data": {
            "text/plain": "  Shaurya Mittal Sachin Chauhan Madhur Kaushik\n0              A              B             A-\n1             A-              A              B\n2              A              B              B\n3              B              A              A",
            "text/html": "<div>\n<style scoped>\n    .dataframe tbody tr th:only-of-type {\n        vertical-align: middle;\n    }\n\n    .dataframe tbody tr th {\n        vertical-align: top;\n    }\n\n    .dataframe thead th {\n        text-align: right;\n    }\n</style>\n<table border=\"1\" class=\"dataframe\">\n  <thead>\n    <tr style=\"text-align: right;\">\n      <th></th>\n      <th>Shaurya Mittal</th>\n      <th>Sachin Chauhan</th>\n      <th>Madhur Kaushik</th>\n    </tr>\n  </thead>\n  <tbody>\n    <tr>\n      <th>0</th>\n      <td>A</td>\n      <td>B</td>\n      <td>A-</td>\n    </tr>\n    <tr>\n      <th>1</th>\n      <td>A-</td>\n      <td>A</td>\n      <td>B</td>\n    </tr>\n    <tr>\n      <th>2</th>\n      <td>A</td>\n      <td>B</td>\n      <td>B</td>\n    </tr>\n    <tr>\n      <th>3</th>\n      <td>B</td>\n      <td>A</td>\n      <td>A</td>\n    </tr>\n  </tbody>\n</table>\n</div>"
          },
          "metadata": {}
        }
      ],
      "execution_count": 11
    },
    {
      "cell_type": "code",
      "source": "grades",
      "metadata": {
        "trusted": true
      },
      "outputs": [
        {
          "execution_count": 12,
          "output_type": "execute_result",
          "data": {
            "text/plain": "  Shaurya Mittal Sachin Chauhan Madhur Kaushik\n0              A              B             B+\n1             B+              A              B\n2              A              B              B\n3              B              A              A",
            "text/html": "<div>\n<style scoped>\n    .dataframe tbody tr th:only-of-type {\n        vertical-align: middle;\n    }\n\n    .dataframe tbody tr th {\n        vertical-align: top;\n    }\n\n    .dataframe thead th {\n        text-align: right;\n    }\n</style>\n<table border=\"1\" class=\"dataframe\">\n  <thead>\n    <tr style=\"text-align: right;\">\n      <th></th>\n      <th>Shaurya Mittal</th>\n      <th>Sachin Chauhan</th>\n      <th>Madhur Kaushik</th>\n    </tr>\n  </thead>\n  <tbody>\n    <tr>\n      <th>0</th>\n      <td>A</td>\n      <td>B</td>\n      <td>B+</td>\n    </tr>\n    <tr>\n      <th>1</th>\n      <td>B+</td>\n      <td>A</td>\n      <td>B</td>\n    </tr>\n    <tr>\n      <th>2</th>\n      <td>A</td>\n      <td>B</td>\n      <td>B</td>\n    </tr>\n    <tr>\n      <th>3</th>\n      <td>B</td>\n      <td>A</td>\n      <td>A</td>\n    </tr>\n  </tbody>\n</table>\n</div>"
          },
          "metadata": {}
        }
      ],
      "execution_count": 12
    },
    {
      "cell_type": "code",
      "source": "#Replace two values\ngrades.replace(['B+','B'],['A-','B+'])",
      "metadata": {
        "trusted": true
      },
      "outputs": [
        {
          "execution_count": 14,
          "output_type": "execute_result",
          "data": {
            "text/plain": "  Shaurya Mittal Sachin Chauhan Madhur Kaushik\n0              A             B+             A-\n1             A-              A             B+\n2              A             B+             B+\n3             B+              A              A",
            "text/html": "<div>\n<style scoped>\n    .dataframe tbody tr th:only-of-type {\n        vertical-align: middle;\n    }\n\n    .dataframe tbody tr th {\n        vertical-align: top;\n    }\n\n    .dataframe thead th {\n        text-align: right;\n    }\n</style>\n<table border=\"1\" class=\"dataframe\">\n  <thead>\n    <tr style=\"text-align: right;\">\n      <th></th>\n      <th>Shaurya Mittal</th>\n      <th>Sachin Chauhan</th>\n      <th>Madhur Kaushik</th>\n    </tr>\n  </thead>\n  <tbody>\n    <tr>\n      <th>0</th>\n      <td>A</td>\n      <td>B+</td>\n      <td>A-</td>\n    </tr>\n    <tr>\n      <th>1</th>\n      <td>A-</td>\n      <td>A</td>\n      <td>B+</td>\n    </tr>\n    <tr>\n      <th>2</th>\n      <td>A</td>\n      <td>B+</td>\n      <td>B+</td>\n    </tr>\n    <tr>\n      <th>3</th>\n      <td>B+</td>\n      <td>A</td>\n      <td>A</td>\n    </tr>\n  </tbody>\n</table>\n</div>"
          },
          "metadata": {}
        }
      ],
      "execution_count": 14
    },
    {
      "cell_type": "markdown",
      "source": "#END OF DATAFRAME PART - 3",
      "metadata": {}
    }
  ]
}