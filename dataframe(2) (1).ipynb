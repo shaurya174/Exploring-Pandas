{
  "metadata": {
    "kernelspec": {
      "name": "python",
      "display_name": "Python (Pyodide)",
      "language": "python"
    },
    "language_info": {
      "codemirror_mode": {
        "name": "python",
        "version": 3
      },
      "file_extension": ".py",
      "mimetype": "text/x-python",
      "name": "python",
      "nbconvert_exporter": "python",
      "pygments_lexer": "ipython3",
      "version": "3.8"
    }
  },
  "nbformat_minor": 4,
  "nbformat": 4,
  "cells": [
    {
      "cell_type": "markdown",
      "source": "#Lecture -> 2",
      "metadata": {}
    },
    {
      "cell_type": "markdown",
      "source": "#LOAD DATASET FROM COMMA SEPARATED VALUE(CSV) INTO DATAFRAME",
      "metadata": {}
    },
    {
      "cell_type": "raw",
      "source": "#Let's first use pandas to load a car_sales data to a dataframe using  read_csv.",
      "metadata": {}
    },
    {
      "cell_type": "code",
      "source": "import pandas as pd\ndf = pd.read_csv('car_sales.csv')\ndf",
      "metadata": {
        "trusted": true
      },
      "outputs": [
        {
          "execution_count": 3,
          "output_type": "execute_result",
          "data": {
            "text/plain": "   Serial No         Car Model  Year  Units Sold  Price per Unit\n0          1      Toyota Camry  2022         150           24000\n1          2       Honda Civic  2021         180           22000\n2          3        Ford F-150  2023         120           35000\n3          4  Chevrolet Malibu  2022          90           26000\n4          5     Tesla Model 3  2023         200           40000",
            "text/html": "<div>\n<style scoped>\n    .dataframe tbody tr th:only-of-type {\n        vertical-align: middle;\n    }\n\n    .dataframe tbody tr th {\n        vertical-align: top;\n    }\n\n    .dataframe thead th {\n        text-align: right;\n    }\n</style>\n<table border=\"1\" class=\"dataframe\">\n  <thead>\n    <tr style=\"text-align: right;\">\n      <th></th>\n      <th>Serial No</th>\n      <th>Car Model</th>\n      <th>Year</th>\n      <th>Units Sold</th>\n      <th>Price per Unit</th>\n    </tr>\n  </thead>\n  <tbody>\n    <tr>\n      <th>0</th>\n      <td>1</td>\n      <td>Toyota Camry</td>\n      <td>2022</td>\n      <td>150</td>\n      <td>24000</td>\n    </tr>\n    <tr>\n      <th>1</th>\n      <td>2</td>\n      <td>Honda Civic</td>\n      <td>2021</td>\n      <td>180</td>\n      <td>22000</td>\n    </tr>\n    <tr>\n      <th>2</th>\n      <td>3</td>\n      <td>Ford F-150</td>\n      <td>2023</td>\n      <td>120</td>\n      <td>35000</td>\n    </tr>\n    <tr>\n      <th>3</th>\n      <td>4</td>\n      <td>Chevrolet Malibu</td>\n      <td>2022</td>\n      <td>90</td>\n      <td>26000</td>\n    </tr>\n    <tr>\n      <th>4</th>\n      <td>5</td>\n      <td>Tesla Model 3</td>\n      <td>2023</td>\n      <td>200</td>\n      <td>40000</td>\n    </tr>\n  </tbody>\n</table>\n</div>"
          },
          "metadata": {}
        }
      ],
      "execution_count": 3
    },
    {
      "cell_type": "code",
      "source": "#We can set the serial no as the index using index_col\ndf = pd.read_csv('car_sales.csv',index_col=0)\ndf",
      "metadata": {
        "trusted": true
      },
      "outputs": [
        {
          "execution_count": 2,
          "output_type": "execute_result",
          "data": {
            "text/plain": "                  Car Model  Year  Units Sold  Price per Unit\nSerial No                                                    \n1              Toyota Camry  2022         150           24000\n2               Honda Civic  2021         180           22000\n3                Ford F-150  2023         120           35000\n4          Chevrolet Malibu  2022          90           26000\n5             Tesla Model 3  2023         200           40000",
            "text/html": "<div>\n<style scoped>\n    .dataframe tbody tr th:only-of-type {\n        vertical-align: middle;\n    }\n\n    .dataframe tbody tr th {\n        vertical-align: top;\n    }\n\n    .dataframe thead th {\n        text-align: right;\n    }\n</style>\n<table border=\"1\" class=\"dataframe\">\n  <thead>\n    <tr style=\"text-align: right;\">\n      <th></th>\n      <th>Car Model</th>\n      <th>Year</th>\n      <th>Units Sold</th>\n      <th>Price per Unit</th>\n    </tr>\n    <tr>\n      <th>Serial No</th>\n      <th></th>\n      <th></th>\n      <th></th>\n      <th></th>\n    </tr>\n  </thead>\n  <tbody>\n    <tr>\n      <th>1</th>\n      <td>Toyota Camry</td>\n      <td>2022</td>\n      <td>150</td>\n      <td>24000</td>\n    </tr>\n    <tr>\n      <th>2</th>\n      <td>Honda Civic</td>\n      <td>2021</td>\n      <td>180</td>\n      <td>22000</td>\n    </tr>\n    <tr>\n      <th>3</th>\n      <td>Ford F-150</td>\n      <td>2023</td>\n      <td>120</td>\n      <td>35000</td>\n    </tr>\n    <tr>\n      <th>4</th>\n      <td>Chevrolet Malibu</td>\n      <td>2022</td>\n      <td>90</td>\n      <td>26000</td>\n    </tr>\n    <tr>\n      <th>5</th>\n      <td>Tesla Model 3</td>\n      <td>2023</td>\n      <td>200</td>\n      <td>40000</td>\n    </tr>\n  </tbody>\n</table>\n</div>"
          },
          "metadata": {}
        }
      ],
      "execution_count": 2
    },
    {
      "cell_type": "code",
      "source": "#I think we can change Price per unit to PPU (AS AN ABBREVIATION)\n#Let's first looks at columns of df\ndf.columns",
      "metadata": {
        "trusted": true
      },
      "outputs": [
        {
          "execution_count": 4,
          "output_type": "execute_result",
          "data": {
            "text/plain": "Index(['Serial No', 'Car Model', 'Year', 'Units Sold', 'Price per Unit'], dtype='object')"
          },
          "metadata": {}
        }
      ],
      "execution_count": 4
    },
    {
      "cell_type": "code",
      "source": "#Let's change Price per Unit To PPU\nnew_df = df.rename(columns={\"Price per Unit\":\"PPU\"})\nnew_df",
      "metadata": {
        "trusted": true
      },
      "outputs": [
        {
          "execution_count": 5,
          "output_type": "execute_result",
          "data": {
            "text/plain": "   Serial No         Car Model  Year  Units Sold    PPU\n0          1      Toyota Camry  2022         150  24000\n1          2       Honda Civic  2021         180  22000\n2          3        Ford F-150  2023         120  35000\n3          4  Chevrolet Malibu  2022          90  26000\n4          5     Tesla Model 3  2023         200  40000",
            "text/html": "<div>\n<style scoped>\n    .dataframe tbody tr th:only-of-type {\n        vertical-align: middle;\n    }\n\n    .dataframe tbody tr th {\n        vertical-align: top;\n    }\n\n    .dataframe thead th {\n        text-align: right;\n    }\n</style>\n<table border=\"1\" class=\"dataframe\">\n  <thead>\n    <tr style=\"text-align: right;\">\n      <th></th>\n      <th>Serial No</th>\n      <th>Car Model</th>\n      <th>Year</th>\n      <th>Units Sold</th>\n      <th>PPU</th>\n    </tr>\n  </thead>\n  <tbody>\n    <tr>\n      <th>0</th>\n      <td>1</td>\n      <td>Toyota Camry</td>\n      <td>2022</td>\n      <td>150</td>\n      <td>24000</td>\n    </tr>\n    <tr>\n      <th>1</th>\n      <td>2</td>\n      <td>Honda Civic</td>\n      <td>2021</td>\n      <td>180</td>\n      <td>22000</td>\n    </tr>\n    <tr>\n      <th>2</th>\n      <td>3</td>\n      <td>Ford F-150</td>\n      <td>2023</td>\n      <td>120</td>\n      <td>35000</td>\n    </tr>\n    <tr>\n      <th>3</th>\n      <td>4</td>\n      <td>Chevrolet Malibu</td>\n      <td>2022</td>\n      <td>90</td>\n      <td>26000</td>\n    </tr>\n    <tr>\n      <th>4</th>\n      <td>5</td>\n      <td>Tesla Model 3</td>\n      <td>2023</td>\n      <td>200</td>\n      <td>40000</td>\n    </tr>\n  </tbody>\n</table>\n</div>"
          },
          "metadata": {}
        }
      ],
      "execution_count": 5
    },
    {
      "cell_type": "code",
      "source": "#Let's change all uppercase columns names to lowercase\ncols = list(df.columns)\nfor i in range(0,len(cols)):\n    cols[i] = cols[i].lower()\ncols\n    ",
      "metadata": {
        "trusted": true
      },
      "outputs": [
        {
          "execution_count": 14,
          "output_type": "execute_result",
          "data": {
            "text/plain": "['serial no', 'car model', 'year', 'units sold', 'price per unit']"
          },
          "metadata": {}
        }
      ],
      "execution_count": 14
    },
    {
      "cell_type": "code",
      "source": "df.columns = cols\ndf",
      "metadata": {
        "trusted": true
      },
      "outputs": [
        {
          "execution_count": 15,
          "output_type": "execute_result",
          "data": {
            "text/plain": "   serial no         car model  year  units sold  price per unit\n0          1      Toyota Camry  2022         150           24000\n1          2       Honda Civic  2021         180           22000\n2          3        Ford F-150  2023         120           35000\n3          4  Chevrolet Malibu  2022          90           26000\n4          5     Tesla Model 3  2023         200           40000",
            "text/html": "<div>\n<style scoped>\n    .dataframe tbody tr th:only-of-type {\n        vertical-align: middle;\n    }\n\n    .dataframe tbody tr th {\n        vertical-align: top;\n    }\n\n    .dataframe thead th {\n        text-align: right;\n    }\n</style>\n<table border=\"1\" class=\"dataframe\">\n  <thead>\n    <tr style=\"text-align: right;\">\n      <th></th>\n      <th>serial no</th>\n      <th>car model</th>\n      <th>year</th>\n      <th>units sold</th>\n      <th>price per unit</th>\n    </tr>\n  </thead>\n  <tbody>\n    <tr>\n      <th>0</th>\n      <td>1</td>\n      <td>Toyota Camry</td>\n      <td>2022</td>\n      <td>150</td>\n      <td>24000</td>\n    </tr>\n    <tr>\n      <th>1</th>\n      <td>2</td>\n      <td>Honda Civic</td>\n      <td>2021</td>\n      <td>180</td>\n      <td>22000</td>\n    </tr>\n    <tr>\n      <th>2</th>\n      <td>3</td>\n      <td>Ford F-150</td>\n      <td>2023</td>\n      <td>120</td>\n      <td>35000</td>\n    </tr>\n    <tr>\n      <th>3</th>\n      <td>4</td>\n      <td>Chevrolet Malibu</td>\n      <td>2022</td>\n      <td>90</td>\n      <td>26000</td>\n    </tr>\n    <tr>\n      <th>4</th>\n      <td>5</td>\n      <td>Tesla Model 3</td>\n      <td>2023</td>\n      <td>200</td>\n      <td>40000</td>\n    </tr>\n  </tbody>\n</table>\n</div>"
          },
          "metadata": {}
        }
      ],
      "execution_count": 15
    },
    {
      "cell_type": "markdown",
      "source": "#QUERYING THE DATAFRAME",
      "metadata": {}
    },
    {
      "cell_type": "markdown",
      "source": "First We should understand about boolean masking. It is the heart of efficient and fast querying in pandas and numpy.",
      "metadata": {}
    },
    {
      "cell_type": "markdown",
      "source": "Q) What Is Boolean Mask?\nAns -> A Boolean mask is an array which can be thought of as a one dimension like a series, or two-dimensions like a DataFrame, where each of the values of the array are either true or false. This array is essentially overlaid on top of the other data structure that we're querying, and any cell aligned with the true value will be admitted into our final result, and any cell aligned with the false value will not.",
      "metadata": {}
    },
    {
      "cell_type": "markdown",
      "source": "Boolean Masks can be created by applying operators directly to the pandas series or dataframe object.\nFor ex -> We are only interested in seeing cars which are sold more than 130 times.",
      "metadata": {}
    },
    {
      "cell_type": "code",
      "source": "df.columns",
      "metadata": {
        "trusted": true
      },
      "outputs": [
        {
          "execution_count": 16,
          "output_type": "execute_result",
          "data": {
            "text/plain": "Index(['serial no', 'car model', 'year', 'units sold', 'price per unit'], dtype='object')"
          },
          "metadata": {}
        }
      ],
      "execution_count": 16
    },
    {
      "cell_type": "code",
      "source": "selling_mask = df['units sold']>130\nselling_mask",
      "metadata": {
        "trusted": true
      },
      "outputs": [
        {
          "execution_count": 18,
          "output_type": "execute_result",
          "data": {
            "text/plain": "0     True\n1     True\n2    False\n3    False\n4     True\nName: units sold, dtype: bool"
          },
          "metadata": {}
        }
      ],
      "execution_count": 18
    },
    {
      "cell_type": "markdown",
      "source": "Let's apply this on top of our data",
      "metadata": {}
    },
    {
      "cell_type": "code",
      "source": "df.where(selling_mask).head()",
      "metadata": {
        "trusted": true
      },
      "outputs": [
        {
          "execution_count": 19,
          "output_type": "execute_result",
          "data": {
            "text/plain": "   serial no      car model    year  units sold  price per unit\n0        1.0   Toyota Camry  2022.0       150.0         24000.0\n1        2.0    Honda Civic  2021.0       180.0         22000.0\n2        NaN            NaN     NaN         NaN             NaN\n3        NaN            NaN     NaN         NaN             NaN\n4        5.0  Tesla Model 3  2023.0       200.0         40000.0",
            "text/html": "<div>\n<style scoped>\n    .dataframe tbody tr th:only-of-type {\n        vertical-align: middle;\n    }\n\n    .dataframe tbody tr th {\n        vertical-align: top;\n    }\n\n    .dataframe thead th {\n        text-align: right;\n    }\n</style>\n<table border=\"1\" class=\"dataframe\">\n  <thead>\n    <tr style=\"text-align: right;\">\n      <th></th>\n      <th>serial no</th>\n      <th>car model</th>\n      <th>year</th>\n      <th>units sold</th>\n      <th>price per unit</th>\n    </tr>\n  </thead>\n  <tbody>\n    <tr>\n      <th>0</th>\n      <td>1.0</td>\n      <td>Toyota Camry</td>\n      <td>2022.0</td>\n      <td>150.0</td>\n      <td>24000.0</td>\n    </tr>\n    <tr>\n      <th>1</th>\n      <td>2.0</td>\n      <td>Honda Civic</td>\n      <td>2021.0</td>\n      <td>180.0</td>\n      <td>22000.0</td>\n    </tr>\n    <tr>\n      <th>2</th>\n      <td>NaN</td>\n      <td>NaN</td>\n      <td>NaN</td>\n      <td>NaN</td>\n      <td>NaN</td>\n    </tr>\n    <tr>\n      <th>3</th>\n      <td>NaN</td>\n      <td>NaN</td>\n      <td>NaN</td>\n      <td>NaN</td>\n      <td>NaN</td>\n    </tr>\n    <tr>\n      <th>4</th>\n      <td>5.0</td>\n      <td>Tesla Model 3</td>\n      <td>2023.0</td>\n      <td>200.0</td>\n      <td>40000.0</td>\n    </tr>\n  </tbody>\n</table>\n</div>"
          },
          "metadata": {}
        }
      ],
      "execution_count": 19
    },
    {
      "cell_type": "code",
      "source": "df",
      "metadata": {
        "trusted": true
      },
      "outputs": [
        {
          "execution_count": 20,
          "output_type": "execute_result",
          "data": {
            "text/plain": "   serial no         car model  year  units sold  price per unit\n0          1      Toyota Camry  2022         150           24000\n1          2       Honda Civic  2021         180           22000\n2          3        Ford F-150  2023         120           35000\n3          4  Chevrolet Malibu  2022          90           26000\n4          5     Tesla Model 3  2023         200           40000",
            "text/html": "<div>\n<style scoped>\n    .dataframe tbody tr th:only-of-type {\n        vertical-align: middle;\n    }\n\n    .dataframe tbody tr th {\n        vertical-align: top;\n    }\n\n    .dataframe thead th {\n        text-align: right;\n    }\n</style>\n<table border=\"1\" class=\"dataframe\">\n  <thead>\n    <tr style=\"text-align: right;\">\n      <th></th>\n      <th>serial no</th>\n      <th>car model</th>\n      <th>year</th>\n      <th>units sold</th>\n      <th>price per unit</th>\n    </tr>\n  </thead>\n  <tbody>\n    <tr>\n      <th>0</th>\n      <td>1</td>\n      <td>Toyota Camry</td>\n      <td>2022</td>\n      <td>150</td>\n      <td>24000</td>\n    </tr>\n    <tr>\n      <th>1</th>\n      <td>2</td>\n      <td>Honda Civic</td>\n      <td>2021</td>\n      <td>180</td>\n      <td>22000</td>\n    </tr>\n    <tr>\n      <th>2</th>\n      <td>3</td>\n      <td>Ford F-150</td>\n      <td>2023</td>\n      <td>120</td>\n      <td>35000</td>\n    </tr>\n    <tr>\n      <th>3</th>\n      <td>4</td>\n      <td>Chevrolet Malibu</td>\n      <td>2022</td>\n      <td>90</td>\n      <td>26000</td>\n    </tr>\n    <tr>\n      <th>4</th>\n      <td>5</td>\n      <td>Tesla Model 3</td>\n      <td>2023</td>\n      <td>200</td>\n      <td>40000</td>\n    </tr>\n  </tbody>\n</table>\n</div>"
          },
          "metadata": {}
        }
      ],
      "execution_count": 20
    },
    {
      "cell_type": "code",
      "source": "#Next Step is to delete NaN rows which don't satisfy our criteria using dropna function\ndf.where(selling_mask).dropna()",
      "metadata": {
        "trusted": true
      },
      "outputs": [
        {
          "execution_count": 21,
          "output_type": "execute_result",
          "data": {
            "text/plain": "   serial no      car model    year  units sold  price per unit\n0        1.0   Toyota Camry  2022.0       150.0         24000.0\n1        2.0    Honda Civic  2021.0       180.0         22000.0\n4        5.0  Tesla Model 3  2023.0       200.0         40000.0",
            "text/html": "<div>\n<style scoped>\n    .dataframe tbody tr th:only-of-type {\n        vertical-align: middle;\n    }\n\n    .dataframe tbody tr th {\n        vertical-align: top;\n    }\n\n    .dataframe thead th {\n        text-align: right;\n    }\n</style>\n<table border=\"1\" class=\"dataframe\">\n  <thead>\n    <tr style=\"text-align: right;\">\n      <th></th>\n      <th>serial no</th>\n      <th>car model</th>\n      <th>year</th>\n      <th>units sold</th>\n      <th>price per unit</th>\n    </tr>\n  </thead>\n  <tbody>\n    <tr>\n      <th>0</th>\n      <td>1.0</td>\n      <td>Toyota Camry</td>\n      <td>2022.0</td>\n      <td>150.0</td>\n      <td>24000.0</td>\n    </tr>\n    <tr>\n      <th>1</th>\n      <td>2.0</td>\n      <td>Honda Civic</td>\n      <td>2021.0</td>\n      <td>180.0</td>\n      <td>22000.0</td>\n    </tr>\n    <tr>\n      <th>4</th>\n      <td>5.0</td>\n      <td>Tesla Model 3</td>\n      <td>2023.0</td>\n      <td>200.0</td>\n      <td>40000.0</td>\n    </tr>\n  </tbody>\n</table>\n</div>"
          },
          "metadata": {}
        }
      ],
      "execution_count": 21
    },
    {
      "cell_type": "code",
      "source": "#Pandas gives us another way in which we can combine where and dropna\ndf[selling_mask]",
      "metadata": {
        "trusted": true
      },
      "outputs": [
        {
          "execution_count": 22,
          "output_type": "execute_result",
          "data": {
            "text/plain": "   serial no      car model  year  units sold  price per unit\n0          1   Toyota Camry  2022         150           24000\n1          2    Honda Civic  2021         180           22000\n4          5  Tesla Model 3  2023         200           40000",
            "text/html": "<div>\n<style scoped>\n    .dataframe tbody tr th:only-of-type {\n        vertical-align: middle;\n    }\n\n    .dataframe tbody tr th {\n        vertical-align: top;\n    }\n\n    .dataframe thead th {\n        text-align: right;\n    }\n</style>\n<table border=\"1\" class=\"dataframe\">\n  <thead>\n    <tr style=\"text-align: right;\">\n      <th></th>\n      <th>serial no</th>\n      <th>car model</th>\n      <th>year</th>\n      <th>units sold</th>\n      <th>price per unit</th>\n    </tr>\n  </thead>\n  <tbody>\n    <tr>\n      <th>0</th>\n      <td>1</td>\n      <td>Toyota Camry</td>\n      <td>2022</td>\n      <td>150</td>\n      <td>24000</td>\n    </tr>\n    <tr>\n      <th>1</th>\n      <td>2</td>\n      <td>Honda Civic</td>\n      <td>2021</td>\n      <td>180</td>\n      <td>22000</td>\n    </tr>\n    <tr>\n      <th>4</th>\n      <td>5</td>\n      <td>Tesla Model 3</td>\n      <td>2023</td>\n      <td>200</td>\n      <td>40000</td>\n    </tr>\n  </tbody>\n</table>\n</div>"
          },
          "metadata": {}
        }
      ],
      "execution_count": 22
    },
    {
      "cell_type": "code",
      "source": "#We can also display a single column using indexing operator\ndf['car model']",
      "metadata": {
        "trusted": true
      },
      "outputs": [
        {
          "execution_count": 24,
          "output_type": "execute_result",
          "data": {
            "text/plain": "0        Toyota Camry\n1         Honda Civic\n2          Ford F-150\n3    Chevrolet Malibu\n4       Tesla Model 3\nName: car model, dtype: object"
          },
          "metadata": {}
        }
      ],
      "execution_count": 24
    },
    {
      "cell_type": "code",
      "source": "#We can view multiple columns by passing a list of column names\ndf[['price per unit','year']]",
      "metadata": {
        "trusted": true
      },
      "outputs": [
        {
          "execution_count": 25,
          "output_type": "execute_result",
          "data": {
            "text/plain": "   price per unit  year\n0           24000  2022\n1           22000  2021\n2           35000  2023\n3           26000  2022\n4           40000  2023",
            "text/html": "<div>\n<style scoped>\n    .dataframe tbody tr th:only-of-type {\n        vertical-align: middle;\n    }\n\n    .dataframe tbody tr th {\n        vertical-align: top;\n    }\n\n    .dataframe thead th {\n        text-align: right;\n    }\n</style>\n<table border=\"1\" class=\"dataframe\">\n  <thead>\n    <tr style=\"text-align: right;\">\n      <th></th>\n      <th>price per unit</th>\n      <th>year</th>\n    </tr>\n  </thead>\n  <tbody>\n    <tr>\n      <th>0</th>\n      <td>24000</td>\n      <td>2022</td>\n    </tr>\n    <tr>\n      <th>1</th>\n      <td>22000</td>\n      <td>2021</td>\n    </tr>\n    <tr>\n      <th>2</th>\n      <td>35000</td>\n      <td>2023</td>\n    </tr>\n    <tr>\n      <th>3</th>\n      <td>26000</td>\n      <td>2022</td>\n    </tr>\n    <tr>\n      <th>4</th>\n      <td>40000</td>\n      <td>2023</td>\n    </tr>\n  </tbody>\n</table>\n</div>"
          },
          "metadata": {}
        }
      ],
      "execution_count": 25
    },
    {
      "cell_type": "code",
      "source": "#Let's see which car are available under 25000\naffordability_mask = df['price per unit']>25000\ndf[affordability_mask]",
      "metadata": {
        "trusted": true
      },
      "outputs": [
        {
          "execution_count": 27,
          "output_type": "execute_result",
          "data": {
            "text/plain": "   serial no         car model  year  units sold  price per unit\n2          3        Ford F-150  2023         120           35000\n3          4  Chevrolet Malibu  2022          90           26000\n4          5     Tesla Model 3  2023         200           40000",
            "text/html": "<div>\n<style scoped>\n    .dataframe tbody tr th:only-of-type {\n        vertical-align: middle;\n    }\n\n    .dataframe tbody tr th {\n        vertical-align: top;\n    }\n\n    .dataframe thead th {\n        text-align: right;\n    }\n</style>\n<table border=\"1\" class=\"dataframe\">\n  <thead>\n    <tr style=\"text-align: right;\">\n      <th></th>\n      <th>serial no</th>\n      <th>car model</th>\n      <th>year</th>\n      <th>units sold</th>\n      <th>price per unit</th>\n    </tr>\n  </thead>\n  <tbody>\n    <tr>\n      <th>2</th>\n      <td>3</td>\n      <td>Ford F-150</td>\n      <td>2023</td>\n      <td>120</td>\n      <td>35000</td>\n    </tr>\n    <tr>\n      <th>3</th>\n      <td>4</td>\n      <td>Chevrolet Malibu</td>\n      <td>2022</td>\n      <td>90</td>\n      <td>26000</td>\n    </tr>\n    <tr>\n      <th>4</th>\n      <td>5</td>\n      <td>Tesla Model 3</td>\n      <td>2023</td>\n      <td>200</td>\n      <td>40000</td>\n    </tr>\n  </tbody>\n</table>\n</div>"
          },
          "metadata": {}
        }
      ],
      "execution_count": 27
    },
    {
      "cell_type": "code",
      "source": "#For applying multiple boolean masks we can use &\nselling_mask&affordability_mask",
      "metadata": {
        "trusted": true
      },
      "outputs": [
        {
          "execution_count": 28,
          "output_type": "execute_result",
          "data": {
            "text/plain": "0    False\n1    False\n2    False\n3    False\n4     True\ndtype: bool"
          },
          "metadata": {}
        }
      ],
      "execution_count": 28
    },
    {
      "cell_type": "markdown",
      "source": "You can also use gt and lt for less than greater than",
      "metadata": {}
    },
    {
      "cell_type": "code",
      "source": "df",
      "metadata": {
        "trusted": true
      },
      "outputs": [],
      "execution_count": null
    },
    {
      "cell_type": "code",
      "source": "df['price per unit'].gt(2000000).lt(30000)",
      "metadata": {
        "trusted": true
      },
      "outputs": [
        {
          "execution_count": 30,
          "output_type": "execute_result",
          "data": {
            "text/plain": "0    True\n1    True\n2    True\n3    True\n4    True\nName: price per unit, dtype: bool"
          },
          "metadata": {}
        }
      ],
      "execution_count": 30
    },
    {
      "cell_type": "markdown",
      "source": "#Indexing DATAFRAMES",
      "metadata": {}
    },
    {
      "cell_type": "code",
      "source": "df['Customer Rating']=[\"Good\",\"Best\",\"Good\",\"Okay\",\"Okay\"]\ndf",
      "metadata": {
        "trusted": true
      },
      "outputs": [
        {
          "execution_count": 31,
          "output_type": "execute_result",
          "data": {
            "text/plain": "   serial no         car model  year  units sold  price per unit  \\\n0          1      Toyota Camry  2022         150           24000   \n1          2       Honda Civic  2021         180           22000   \n2          3        Ford F-150  2023         120           35000   \n3          4  Chevrolet Malibu  2022          90           26000   \n4          5     Tesla Model 3  2023         200           40000   \n\n  Customer Rating  \n0            Good  \n1            Best  \n2            Good  \n3            Okay  \n4            Okay  ",
            "text/html": "<div>\n<style scoped>\n    .dataframe tbody tr th:only-of-type {\n        vertical-align: middle;\n    }\n\n    .dataframe tbody tr th {\n        vertical-align: top;\n    }\n\n    .dataframe thead th {\n        text-align: right;\n    }\n</style>\n<table border=\"1\" class=\"dataframe\">\n  <thead>\n    <tr style=\"text-align: right;\">\n      <th></th>\n      <th>serial no</th>\n      <th>car model</th>\n      <th>year</th>\n      <th>units sold</th>\n      <th>price per unit</th>\n      <th>Customer Rating</th>\n    </tr>\n  </thead>\n  <tbody>\n    <tr>\n      <th>0</th>\n      <td>1</td>\n      <td>Toyota Camry</td>\n      <td>2022</td>\n      <td>150</td>\n      <td>24000</td>\n      <td>Good</td>\n    </tr>\n    <tr>\n      <th>1</th>\n      <td>2</td>\n      <td>Honda Civic</td>\n      <td>2021</td>\n      <td>180</td>\n      <td>22000</td>\n      <td>Best</td>\n    </tr>\n    <tr>\n      <th>2</th>\n      <td>3</td>\n      <td>Ford F-150</td>\n      <td>2023</td>\n      <td>120</td>\n      <td>35000</td>\n      <td>Good</td>\n    </tr>\n    <tr>\n      <th>3</th>\n      <td>4</td>\n      <td>Chevrolet Malibu</td>\n      <td>2022</td>\n      <td>90</td>\n      <td>26000</td>\n      <td>Okay</td>\n    </tr>\n    <tr>\n      <th>4</th>\n      <td>5</td>\n      <td>Tesla Model 3</td>\n      <td>2023</td>\n      <td>200</td>\n      <td>40000</td>\n      <td>Okay</td>\n    </tr>\n  </tbody>\n</table>\n</div>"
          },
          "metadata": {}
        }
      ],
      "execution_count": 31
    },
    {
      "cell_type": "code",
      "source": "#If you want to change indexing columns to customer rating we will do it in two steps.\n#1)Copy indexed data to its own column\ndf['Serial Number']=df.index\n#2)Set Index using set_index\ndf=df.set_index('Customer Rating')\ndf",
      "metadata": {
        "trusted": true
      },
      "outputs": [
        {
          "execution_count": 32,
          "output_type": "execute_result",
          "data": {
            "text/plain": "                 serial no         car model  year  units sold  \\\nCustomer Rating                                                  \nGood                     1      Toyota Camry  2022         150   \nBest                     2       Honda Civic  2021         180   \nGood                     3        Ford F-150  2023         120   \nOkay                     4  Chevrolet Malibu  2022          90   \nOkay                     5     Tesla Model 3  2023         200   \n\n                 price per unit  Serial Number  \nCustomer Rating                                 \nGood                      24000              0  \nBest                      22000              1  \nGood                      35000              2  \nOkay                      26000              3  \nOkay                      40000              4  ",
            "text/html": "<div>\n<style scoped>\n    .dataframe tbody tr th:only-of-type {\n        vertical-align: middle;\n    }\n\n    .dataframe tbody tr th {\n        vertical-align: top;\n    }\n\n    .dataframe thead th {\n        text-align: right;\n    }\n</style>\n<table border=\"1\" class=\"dataframe\">\n  <thead>\n    <tr style=\"text-align: right;\">\n      <th></th>\n      <th>serial no</th>\n      <th>car model</th>\n      <th>year</th>\n      <th>units sold</th>\n      <th>price per unit</th>\n      <th>Serial Number</th>\n    </tr>\n    <tr>\n      <th>Customer Rating</th>\n      <th></th>\n      <th></th>\n      <th></th>\n      <th></th>\n      <th></th>\n      <th></th>\n    </tr>\n  </thead>\n  <tbody>\n    <tr>\n      <th>Good</th>\n      <td>1</td>\n      <td>Toyota Camry</td>\n      <td>2022</td>\n      <td>150</td>\n      <td>24000</td>\n      <td>0</td>\n    </tr>\n    <tr>\n      <th>Best</th>\n      <td>2</td>\n      <td>Honda Civic</td>\n      <td>2021</td>\n      <td>180</td>\n      <td>22000</td>\n      <td>1</td>\n    </tr>\n    <tr>\n      <th>Good</th>\n      <td>3</td>\n      <td>Ford F-150</td>\n      <td>2023</td>\n      <td>120</td>\n      <td>35000</td>\n      <td>2</td>\n    </tr>\n    <tr>\n      <th>Okay</th>\n      <td>4</td>\n      <td>Chevrolet Malibu</td>\n      <td>2022</td>\n      <td>90</td>\n      <td>26000</td>\n      <td>3</td>\n    </tr>\n    <tr>\n      <th>Okay</th>\n      <td>5</td>\n      <td>Tesla Model 3</td>\n      <td>2023</td>\n      <td>200</td>\n      <td>40000</td>\n      <td>4</td>\n    </tr>\n  </tbody>\n</table>\n</div>"
          },
          "metadata": {}
        }
      ],
      "execution_count": 32
    },
    {
      "cell_type": "code",
      "source": "#We can get rid of index completely using reset_index\ndf = df.reset_index()\ndf",
      "metadata": {
        "trusted": true
      },
      "outputs": [
        {
          "execution_count": 33,
          "output_type": "execute_result",
          "data": {
            "text/plain": "  Customer Rating  serial no         car model  year  units sold  \\\n0            Good          1      Toyota Camry  2022         150   \n1            Best          2       Honda Civic  2021         180   \n2            Good          3        Ford F-150  2023         120   \n3            Okay          4  Chevrolet Malibu  2022          90   \n4            Okay          5     Tesla Model 3  2023         200   \n\n   price per unit  Serial Number  \n0           24000              0  \n1           22000              1  \n2           35000              2  \n3           26000              3  \n4           40000              4  ",
            "text/html": "<div>\n<style scoped>\n    .dataframe tbody tr th:only-of-type {\n        vertical-align: middle;\n    }\n\n    .dataframe tbody tr th {\n        vertical-align: top;\n    }\n\n    .dataframe thead th {\n        text-align: right;\n    }\n</style>\n<table border=\"1\" class=\"dataframe\">\n  <thead>\n    <tr style=\"text-align: right;\">\n      <th></th>\n      <th>Customer Rating</th>\n      <th>serial no</th>\n      <th>car model</th>\n      <th>year</th>\n      <th>units sold</th>\n      <th>price per unit</th>\n      <th>Serial Number</th>\n    </tr>\n  </thead>\n  <tbody>\n    <tr>\n      <th>0</th>\n      <td>Good</td>\n      <td>1</td>\n      <td>Toyota Camry</td>\n      <td>2022</td>\n      <td>150</td>\n      <td>24000</td>\n      <td>0</td>\n    </tr>\n    <tr>\n      <th>1</th>\n      <td>Best</td>\n      <td>2</td>\n      <td>Honda Civic</td>\n      <td>2021</td>\n      <td>180</td>\n      <td>22000</td>\n      <td>1</td>\n    </tr>\n    <tr>\n      <th>2</th>\n      <td>Good</td>\n      <td>3</td>\n      <td>Ford F-150</td>\n      <td>2023</td>\n      <td>120</td>\n      <td>35000</td>\n      <td>2</td>\n    </tr>\n    <tr>\n      <th>3</th>\n      <td>Okay</td>\n      <td>4</td>\n      <td>Chevrolet Malibu</td>\n      <td>2022</td>\n      <td>90</td>\n      <td>26000</td>\n      <td>3</td>\n    </tr>\n    <tr>\n      <th>4</th>\n      <td>Okay</td>\n      <td>5</td>\n      <td>Tesla Model 3</td>\n      <td>2023</td>\n      <td>200</td>\n      <td>40000</td>\n      <td>4</td>\n    </tr>\n  </tbody>\n</table>\n</div>"
          },
          "metadata": {}
        }
      ],
      "execution_count": 33
    },
    {
      "cell_type": "markdown",
      "source": "Let's study about multi-level indexing for that we need to work with some new data like population.",
      "metadata": {}
    },
    {
      "cell_type": "code",
      "source": "population_data = pd.read_csv('indian_cities_population.csv')\npopulation_data",
      "metadata": {
        "trusted": true
      },
      "outputs": [
        {
          "execution_count": 34,
          "output_type": "execute_result",
          "data": {
            "text/plain": "        City  Population  Total Male  Total Female  Male Percentage  \\\n0      Delhi    33807403    17567000      16240403             52.3   \n1     Mumbai    21673149    10845000      10828149             50.1   \n2  Bangalore    14008262     7200000       6808262             51.4   \n3    Chennai    12053697     6100000       5953697             50.6   \n4  Hyderabad    11068877     5600000       5468877             50.7   \n\n   Female Percentage Region  \n0               47.7  North  \n1               49.9   West  \n2               48.6  South  \n3               49.4  South  \n4               49.3  South  ",
            "text/html": "<div>\n<style scoped>\n    .dataframe tbody tr th:only-of-type {\n        vertical-align: middle;\n    }\n\n    .dataframe tbody tr th {\n        vertical-align: top;\n    }\n\n    .dataframe thead th {\n        text-align: right;\n    }\n</style>\n<table border=\"1\" class=\"dataframe\">\n  <thead>\n    <tr style=\"text-align: right;\">\n      <th></th>\n      <th>City</th>\n      <th>Population</th>\n      <th>Total Male</th>\n      <th>Total Female</th>\n      <th>Male Percentage</th>\n      <th>Female Percentage</th>\n      <th>Region</th>\n    </tr>\n  </thead>\n  <tbody>\n    <tr>\n      <th>0</th>\n      <td>Delhi</td>\n      <td>33807403</td>\n      <td>17567000</td>\n      <td>16240403</td>\n      <td>52.3</td>\n      <td>47.7</td>\n      <td>North</td>\n    </tr>\n    <tr>\n      <th>1</th>\n      <td>Mumbai</td>\n      <td>21673149</td>\n      <td>10845000</td>\n      <td>10828149</td>\n      <td>50.1</td>\n      <td>49.9</td>\n      <td>West</td>\n    </tr>\n    <tr>\n      <th>2</th>\n      <td>Bangalore</td>\n      <td>14008262</td>\n      <td>7200000</td>\n      <td>6808262</td>\n      <td>51.4</td>\n      <td>48.6</td>\n      <td>South</td>\n    </tr>\n    <tr>\n      <th>3</th>\n      <td>Chennai</td>\n      <td>12053697</td>\n      <td>6100000</td>\n      <td>5953697</td>\n      <td>50.6</td>\n      <td>49.4</td>\n      <td>South</td>\n    </tr>\n    <tr>\n      <th>4</th>\n      <td>Hyderabad</td>\n      <td>11068877</td>\n      <td>5600000</td>\n      <td>5468877</td>\n      <td>50.7</td>\n      <td>49.3</td>\n      <td>South</td>\n    </tr>\n  </tbody>\n</table>\n</div>"
          },
          "metadata": {}
        }
      ],
      "execution_count": 34
    },
    {
      "cell_type": "code",
      "source": "#We can use unique to check for diff values that exist in a column\npopulation_data['Region'].unique()",
      "metadata": {
        "trusted": true
      },
      "outputs": [
        {
          "execution_count": 35,
          "output_type": "execute_result",
          "data": {
            "text/plain": "array(['North', 'West', 'South'], dtype=object)"
          },
          "metadata": {}
        }
      ],
      "execution_count": 35
    },
    {
      "cell_type": "code",
      "source": "#Let's look for data in which male and females are almost equal say 51 and 49\nequality_mask = population_data['Female Percentage']>49.0\nnew_data=population_data[equality_mask]\nnew_data",
      "metadata": {
        "trusted": true
      },
      "outputs": [
        {
          "execution_count": 36,
          "output_type": "execute_result",
          "data": {
            "text/plain": "        City  Population  Total Male  Total Female  Male Percentage  \\\n1     Mumbai    21673149    10845000      10828149             50.1   \n3    Chennai    12053697     6100000       5953697             50.6   \n4  Hyderabad    11068877     5600000       5468877             50.7   \n\n   Female Percentage Region  \n1               49.9   West  \n3               49.4  South  \n4               49.3  South  ",
            "text/html": "<div>\n<style scoped>\n    .dataframe tbody tr th:only-of-type {\n        vertical-align: middle;\n    }\n\n    .dataframe tbody tr th {\n        vertical-align: top;\n    }\n\n    .dataframe thead th {\n        text-align: right;\n    }\n</style>\n<table border=\"1\" class=\"dataframe\">\n  <thead>\n    <tr style=\"text-align: right;\">\n      <th></th>\n      <th>City</th>\n      <th>Population</th>\n      <th>Total Male</th>\n      <th>Total Female</th>\n      <th>Male Percentage</th>\n      <th>Female Percentage</th>\n      <th>Region</th>\n    </tr>\n  </thead>\n  <tbody>\n    <tr>\n      <th>1</th>\n      <td>Mumbai</td>\n      <td>21673149</td>\n      <td>10845000</td>\n      <td>10828149</td>\n      <td>50.1</td>\n      <td>49.9</td>\n      <td>West</td>\n    </tr>\n    <tr>\n      <th>3</th>\n      <td>Chennai</td>\n      <td>12053697</td>\n      <td>6100000</td>\n      <td>5953697</td>\n      <td>50.6</td>\n      <td>49.4</td>\n      <td>South</td>\n    </tr>\n    <tr>\n      <th>4</th>\n      <td>Hyderabad</td>\n      <td>11068877</td>\n      <td>5600000</td>\n      <td>5468877</td>\n      <td>50.7</td>\n      <td>49.3</td>\n      <td>South</td>\n    </tr>\n  </tbody>\n</table>\n</div>"
          },
          "metadata": {}
        }
      ],
      "execution_count": 36
    },
    {
      "cell_type": "code",
      "source": "#Now if we want the data of just a few columns\nwanted_columns = [\"City\",\"Region\",\"Population\"]\nwanted_data = population_data[wanted_columns]\nwanted_data",
      "metadata": {
        "trusted": true
      },
      "outputs": [
        {
          "execution_count": 37,
          "output_type": "execute_result",
          "data": {
            "text/plain": "        City Region  Population\n0      Delhi  North    33807403\n1     Mumbai   West    21673149\n2  Bangalore  South    14008262\n3    Chennai  South    12053697\n4  Hyderabad  South    11068877",
            "text/html": "<div>\n<style scoped>\n    .dataframe tbody tr th:only-of-type {\n        vertical-align: middle;\n    }\n\n    .dataframe tbody tr th {\n        vertical-align: top;\n    }\n\n    .dataframe thead th {\n        text-align: right;\n    }\n</style>\n<table border=\"1\" class=\"dataframe\">\n  <thead>\n    <tr style=\"text-align: right;\">\n      <th></th>\n      <th>City</th>\n      <th>Region</th>\n      <th>Population</th>\n    </tr>\n  </thead>\n  <tbody>\n    <tr>\n      <th>0</th>\n      <td>Delhi</td>\n      <td>North</td>\n      <td>33807403</td>\n    </tr>\n    <tr>\n      <th>1</th>\n      <td>Mumbai</td>\n      <td>West</td>\n      <td>21673149</td>\n    </tr>\n    <tr>\n      <th>2</th>\n      <td>Bangalore</td>\n      <td>South</td>\n      <td>14008262</td>\n    </tr>\n    <tr>\n      <th>3</th>\n      <td>Chennai</td>\n      <td>South</td>\n      <td>12053697</td>\n    </tr>\n    <tr>\n      <th>4</th>\n      <td>Hyderabad</td>\n      <td>South</td>\n      <td>11068877</td>\n    </tr>\n  </tbody>\n</table>\n</div>"
          },
          "metadata": {}
        }
      ],
      "execution_count": 37
    },
    {
      "cell_type": "code",
      "source": "#Now let's set city and region as index\nmulti = wanted_data.set_index(['City','Region'])\nmulti",
      "metadata": {
        "trusted": true
      },
      "outputs": [
        {
          "execution_count": 38,
          "output_type": "execute_result",
          "data": {
            "text/plain": "                  Population\nCity      Region            \nDelhi     North     33807403\nMumbai    West      21673149\nBangalore South     14008262\nChennai   South     12053697\nHyderabad South     11068877",
            "text/html": "<div>\n<style scoped>\n    .dataframe tbody tr th:only-of-type {\n        vertical-align: middle;\n    }\n\n    .dataframe tbody tr th {\n        vertical-align: top;\n    }\n\n    .dataframe thead th {\n        text-align: right;\n    }\n</style>\n<table border=\"1\" class=\"dataframe\">\n  <thead>\n    <tr style=\"text-align: right;\">\n      <th></th>\n      <th></th>\n      <th>Population</th>\n    </tr>\n    <tr>\n      <th>City</th>\n      <th>Region</th>\n      <th></th>\n    </tr>\n  </thead>\n  <tbody>\n    <tr>\n      <th>Delhi</th>\n      <th>North</th>\n      <td>33807403</td>\n    </tr>\n    <tr>\n      <th>Mumbai</th>\n      <th>West</th>\n      <td>21673149</td>\n    </tr>\n    <tr>\n      <th>Bangalore</th>\n      <th>South</th>\n      <td>14008262</td>\n    </tr>\n    <tr>\n      <th>Chennai</th>\n      <th>South</th>\n      <td>12053697</td>\n    </tr>\n    <tr>\n      <th>Hyderabad</th>\n      <th>South</th>\n      <td>11068877</td>\n    </tr>\n  </tbody>\n</table>\n</div>"
          },
          "metadata": {}
        }
      ],
      "execution_count": 38
    },
    {
      "cell_type": "code",
      "source": "#You need to pass two indexes first is first index and second id second one.\nmulti.loc[('Delhi','North')]",
      "metadata": {
        "trusted": true
      },
      "outputs": [
        {
          "execution_count": 44,
          "output_type": "execute_result",
          "data": {
            "text/plain": "Population    33807403\nName: (Delhi, North), dtype: int64"
          },
          "metadata": {}
        }
      ],
      "execution_count": 44
    },
    {
      "cell_type": "markdown",
      "source": "#END OF DATAFRAME PART - 2",
      "metadata": {}
    },
    {
      "cell_type": "code",
      "source": "",
      "metadata": {
        "trusted": true
      },
      "outputs": [],
      "execution_count": null
    }
  ]
}