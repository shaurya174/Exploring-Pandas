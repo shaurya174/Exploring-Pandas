{
  "metadata": {
    "kernelspec": {
      "name": "python",
      "display_name": "Python (Pyodide)",
      "language": "python"
    },
    "language_info": {
      "codemirror_mode": {
        "name": "python",
        "version": 3
      },
      "file_extension": ".py",
      "mimetype": "text/x-python",
      "name": "python",
      "nbconvert_exporter": "python",
      "pygments_lexer": "ipython3",
      "version": "3.8"
    }
  },
  "nbformat_minor": 4,
  "nbformat": 4,
  "cells": [
    {
      "cell_type": "markdown",
      "source": "Let's look at pandas toolkit, it will help to manipulate, clean and query data.",
      "metadata": {}
    },
    {
      "cell_type": "markdown",
      "source": "Let's first learn python series data structure. We will lean how to manipulate and store 1-D indexed data in series object.",
      "metadata": {}
    },
    {
      "cell_type": "markdown",
      "source": "The series is one of the core data structures in pandas. You can think of it as a cross between a list and a dictionary. The items are all stored in an order and there's labels with which you can retrieve them. An easy way to visualize this is two columns of data. The first is the special index, a lot like keys in a dictionary. While the second is your actual data. It's important to note that the data column has the label of its own and can be retrieved using the dot name attribute. This is different than with dictionaries and is useful when it comes to merging multiple columns of data, and we'll talk about that later on in the course. Let's import pandas to get things started",
      "metadata": {}
    },
    {
      "cell_type": "code",
      "source": "import pandas as pd",
      "metadata": {
        "trusted": true
      },
      "outputs": [],
      "execution_count": 2
    },
    {
      "cell_type": "code",
      "source": "students = [\"Shaurya\",\"Ashish\",\"Karan\"]\npd.Series(students)",
      "metadata": {
        "trusted": true
      },
      "outputs": [
        {
          "execution_count": 4,
          "output_type": "execute_result",
          "data": {
            "text/plain": "0    Shaurya\n1     Ashish\n2      Karan\ndtype: object"
          },
          "metadata": {}
        }
      ],
      "execution_count": 4
    },
    {
      "cell_type": "markdown",
      "source": "The results is a Series object which is nicely rendered to the screen. We see here that the pandas has automatically identified the type of data in the series as object and set the dtype parameter as appropriate. We see that the values are indexed with integers starting with zero",
      "metadata": {}
    },
    {
      "cell_type": "markdown",
      "source": "Imp -> pandas storage series values in a typed array using the Numpy library. This offer significant speed-up when processing data versus traditional python lists. ",
      "metadata": {}
    },
    {
      "cell_type": "code",
      "source": "nums = [45,18,7] #If you are an indian cricket team fan, look carefully at numbers.\npd.Series(nums)",
      "metadata": {
        "trusted": true
      },
      "outputs": [
        {
          "execution_count": 5,
          "output_type": "execute_result",
          "data": {
            "text/plain": "0    45\n1    18\n2     7\ndtype: int64"
          },
          "metadata": {}
        }
      ],
      "execution_count": 5
    },
    {
      "cell_type": "markdown",
      "source": "How Numpy And Pandas Handle Missing Data?\n",
      "metadata": {}
    },
    {
      "cell_type": "code",
      "source": "grades = [\"A\",\"B\",None]\npd.Series(grades)",
      "metadata": {
        "trusted": true
      },
      "outputs": [
        {
          "execution_count": 6,
          "output_type": "execute_result",
          "data": {
            "text/plain": "0       A\n1       B\n2    None\ndtype: object"
          },
          "metadata": {}
        }
      ],
      "execution_count": 6
    },
    {
      "cell_type": "code",
      "source": "#If we a have a list of numbers and one of them is None in that case pandas make it as NaN(floating point number) and set dtype to float 64.\ngpa = [8,7,None]\npd.Series(gpa)",
      "metadata": {
        "trusted": true
      },
      "outputs": [
        {
          "execution_count": 10,
          "output_type": "execute_result",
          "data": {
            "text/plain": "0    8.0\n1    7.0\n2    NaN\ndtype: float64"
          },
          "metadata": {}
        }
      ],
      "execution_count": 10
    },
    {
      "cell_type": "code",
      "source": "#Let's learn more about NaN\nimport numpy as np #Numpy allows us to use  NaN Value",
      "metadata": {
        "trusted": true
      },
      "outputs": [],
      "execution_count": 9
    },
    {
      "cell_type": "code",
      "source": "print(np.nan)",
      "metadata": {
        "trusted": true
      },
      "outputs": [
        {
          "name": "stdout",
          "text": "nan\n",
          "output_type": "stream"
        }
      ],
      "execution_count": 14
    },
    {
      "cell_type": "code",
      "source": "np.nan == np.nan",
      "metadata": {
        "trusted": true
      },
      "outputs": [
        {
          "execution_count": 15,
          "output_type": "execute_result",
          "data": {
            "text/plain": "False"
          },
          "metadata": {}
        }
      ],
      "execution_count": 15
    },
    {
      "cell_type": "markdown",
      "source": "We can use isnan function to check if a number is not a number or not",
      "metadata": {}
    },
    {
      "cell_type": "code",
      "source": "np.isnan(np.nan)",
      "metadata": {
        "trusted": true
      },
      "outputs": [
        {
          "execution_count": 16,
          "output_type": "execute_result",
          "data": {
            "text/plain": "True"
          },
          "metadata": {}
        }
      ],
      "execution_count": 16
    },
    {
      "cell_type": "raw",
      "source": "A series can be created directly from dictionary data. If you do this, the index is automatically assigned to the keys of the dictionary that you provided and not just incrementing integers.",
      "metadata": {}
    },
    {
      "cell_type": "code",
      "source": "my_friends_gpa = {\"Shaurya\":8.3,\"Ashish\":8.2,\"Sachin\":8.1}\ntest_series = pd.Series(my_friends_gpa)\ntest_series",
      "metadata": {
        "trusted": true
      },
      "outputs": [
        {
          "execution_count": 19,
          "output_type": "execute_result",
          "data": {
            "text/plain": "Shaurya    8.3\nAshish     8.2\nSachin     8.1\ndtype: float64"
          },
          "metadata": {}
        }
      ],
      "execution_count": 19
    },
    {
      "cell_type": "code",
      "source": "test_series.index #Returns a Index obj with labels",
      "metadata": {
        "trusted": true
      },
      "outputs": [
        {
          "execution_count": 20,
          "output_type": "execute_result",
          "data": {
            "text/plain": "Index(['Shaurya', 'Ashish', 'Sachin'], dtype='object')"
          },
          "metadata": {}
        }
      ],
      "execution_count": 20
    },
    {
      "cell_type": "raw",
      "source": "You can also separate your index creation from the data by passing in an index as a list explicitly to the series. ",
      "metadata": {}
    },
    {
      "cell_type": "code",
      "source": "fav_subj = pd.Series([\"Maths\",\"Physics\",\"Chemistry\"],index = [\"Shaurya\",\"Akshit\",\"Vikram\"])\nfav_subj",
      "metadata": {
        "trusted": true
      },
      "outputs": [
        {
          "execution_count": 21,
          "output_type": "execute_result",
          "data": {
            "text/plain": "Shaurya        Maths\nAkshit       Physics\nVikram     Chemistry\ndtype: object"
          },
          "metadata": {}
        }
      ],
      "execution_count": 21
    },
    {
      "cell_type": "code",
      "source": "#Let's see how python handles misalignment\nsales = {\"Seltos\":670,\"Sonet\":570,\"Astor\":560}\npd.Series(sales,index=[\"Seltos\",\"Sonet\",\"Carens\"])",
      "metadata": {
        "trusted": true
      },
      "outputs": [
        {
          "execution_count": 23,
          "output_type": "execute_result",
          "data": {
            "text/plain": "Seltos    670.0\nSonet     570.0\nCarens      NaN\ndtype: float64"
          },
          "metadata": {}
        }
      ],
      "execution_count": 23
    },
    {
      "cell_type": "markdown",
      "source": "#END OF SERIES DATA STRUCTURE",
      "metadata": {}
    }
  ]
}