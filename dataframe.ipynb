{
  "metadata": {
    "kernelspec": {
      "name": "python",
      "display_name": "Python (Pyodide)",
      "language": "python"
    },
    "language_info": {
      "codemirror_mode": {
        "name": "python",
        "version": 3
      },
      "file_extension": ".py",
      "mimetype": "text/x-python",
      "name": "python",
      "nbconvert_exporter": "python",
      "pygments_lexer": "ipython3",
      "version": "3.8"
    }
  },
  "nbformat_minor": 4,
  "nbformat": 4,
  "cells": [
    {
      "cell_type": "markdown",
      "source": "#DATA FRAME PART - 1",
      "metadata": {}
    },
    {
      "cell_type": "markdown",
      "source": "DataFrame is the heart of pandas library. It's a primary object that we will be workin",
      "metadata": {}
    },
    {
      "cell_type": "markdown",
      "source": "The DataFrame is conceptually a two-dimensional series object, where there's an index and multiple columns of content, with each column having a label. In fact, the distinction between a column and a row is only a conceptual distinction, and you can think of the DataFrame itself as simply a two-axis labeled array",
      "metadata": {}
    },
    {
      "cell_type": "markdown",
      "source": "import pandas as pd",
      "metadata": {}
    },
    {
      "cell_type": "code",
      "source": "#Create three records of students using series\nrec1 = pd.Series({\"Name\":\"Shaurya\",\"Branch\":\"AIML\",\"Roll No\":25})\nrec2 = pd.Series({\"Name\":\"Ayush\",\"Branch\":\"CSE\",\"Roll No\":15})\nrec3 = pd.Series({\"Name\":\"Madhur\",\"Branch\":\"ECE\",\"Roll No\":10})\nprint(rec1)\nprint(rec2)\nprint(rec3)",
      "metadata": {
        "trusted": true
      },
      "outputs": [
        {
          "name": "stdout",
          "text": "Name       Shaurya\nBranch        AIML\nRoll No         25\ndtype: object\nName       Ayush\nBranch       CSE\nRoll No       15\ndtype: object\nName       Madhur\nBranch        ECE\nRoll No        10\ndtype: object\n",
          "output_type": "stream"
        }
      ],
      "execution_count": 4
    },
    {
      "cell_type": "markdown",
      "source": "So like a series the DataFrame object is indexed. I'll use a group of series, where each series represents a row of data. Just like the series function, we can pass in our individual items in an array and we can pass in our index values as second arguments. So df is a common name for a DataFrame equals pd.DataFrame, and we'll pass in record1, record2, record3 as our arrays, and we'll just say our index is school1, school2 and school1. Just like the series, we can use the head function to see the first several rows of the DataFrame, including indices from both axis, and we can use this to verify the columns and the rows, so df.head. You'll notice here the Jupyter creates a nice bit of HTML to render the results of the DataFrame.",
      "metadata": {}
    },
    {
      "cell_type": "code",
      "source": "df = pd.DataFrame([rec1,rec2,rec3],index=[\"Student 1\",\"Student 2\",\"Student 3\"])\ndf",
      "metadata": {
        "trusted": true
      },
      "outputs": [
        {
          "execution_count": 7,
          "output_type": "execute_result",
          "data": {
            "text/plain": "              Name Branch  Roll No\nStudent 1  Shaurya   AIML       25\nStudent 2    Ayush    CSE       15\nStudent 3   Madhur    ECE       10",
            "text/html": "<div>\n<style scoped>\n    .dataframe tbody tr th:only-of-type {\n        vertical-align: middle;\n    }\n\n    .dataframe tbody tr th {\n        vertical-align: top;\n    }\n\n    .dataframe thead th {\n        text-align: right;\n    }\n</style>\n<table border=\"1\" class=\"dataframe\">\n  <thead>\n    <tr style=\"text-align: right;\">\n      <th></th>\n      <th>Name</th>\n      <th>Branch</th>\n      <th>Roll No</th>\n    </tr>\n  </thead>\n  <tbody>\n    <tr>\n      <th>Student 1</th>\n      <td>Shaurya</td>\n      <td>AIML</td>\n      <td>25</td>\n    </tr>\n    <tr>\n      <th>Student 2</th>\n      <td>Ayush</td>\n      <td>CSE</td>\n      <td>15</td>\n    </tr>\n    <tr>\n      <th>Student 3</th>\n      <td>Madhur</td>\n      <td>ECE</td>\n      <td>10</td>\n    </tr>\n  </tbody>\n</table>\n</div>"
          },
          "metadata": {}
        }
      ],
      "execution_count": 7
    },
    {
      "cell_type": "code",
      "source": "df.head()",
      "metadata": {
        "trusted": true
      },
      "outputs": [
        {
          "execution_count": 8,
          "output_type": "execute_result",
          "data": {
            "text/plain": "              Name Branch  Roll No\nStudent 1  Shaurya   AIML       25\nStudent 2    Ayush    CSE       15\nStudent 3   Madhur    ECE       10",
            "text/html": "<div>\n<style scoped>\n    .dataframe tbody tr th:only-of-type {\n        vertical-align: middle;\n    }\n\n    .dataframe tbody tr th {\n        vertical-align: top;\n    }\n\n    .dataframe thead th {\n        text-align: right;\n    }\n</style>\n<table border=\"1\" class=\"dataframe\">\n  <thead>\n    <tr style=\"text-align: right;\">\n      <th></th>\n      <th>Name</th>\n      <th>Branch</th>\n      <th>Roll No</th>\n    </tr>\n  </thead>\n  <tbody>\n    <tr>\n      <th>Student 1</th>\n      <td>Shaurya</td>\n      <td>AIML</td>\n      <td>25</td>\n    </tr>\n    <tr>\n      <th>Student 2</th>\n      <td>Ayush</td>\n      <td>CSE</td>\n      <td>15</td>\n    </tr>\n    <tr>\n      <th>Student 3</th>\n      <td>Madhur</td>\n      <td>ECE</td>\n      <td>10</td>\n    </tr>\n  </tbody>\n</table>\n</div>"
          },
          "metadata": {}
        }
      ],
      "execution_count": 8
    },
    {
      "cell_type": "markdown",
      "source": "So we have the index, which is the leftmost column and is the school name, and then we have the rows of data, where each row has a column header which was given in our initial record directories. ",
      "metadata": {}
    },
    {
      "cell_type": "markdown",
      "source": "So similar to the series, we can extract data using the.iloc and.loc attributes. Because the DataFrame is two-dimensional, passing a single value to loc indexing operator will return the series if there's only one row to return",
      "metadata": {}
    },
    {
      "cell_type": "markdown",
      "source": " For instance, if we wanted to select data associated with school2, we would just query the.loc attribute with one parameter. ",
      "metadata": {}
    },
    {
      "cell_type": "code",
      "source": "df.loc[\"Student 2\"]",
      "metadata": {
        "trusted": true
      },
      "outputs": [
        {
          "execution_count": 9,
          "output_type": "execute_result",
          "data": {
            "text/plain": "Name       Ayush\nBranch       CSE\nRoll No       15\nName: Student 2, dtype: object"
          },
          "metadata": {}
        }
      ],
      "execution_count": 9
    },
    {
      "cell_type": "markdown",
      "source": "We can check the data type of the return using the python type function. ",
      "metadata": {}
    },
    {
      "cell_type": "code",
      "source": "type(df.loc['Student 3'])",
      "metadata": {
        "trusted": true
      },
      "outputs": [
        {
          "execution_count": 10,
          "output_type": "execute_result",
          "data": {
            "text/plain": "pandas.core.series.Series"
          },
          "metadata": {}
        }
      ],
      "execution_count": 10
    },
    {
      "cell_type": "markdown",
      "source": "It's important to remember that the indices and column names along either axis horizontal or vertical, could be non-unique. In this example, we see two records for school1 as different rows. If we use a single value with the DataFrame lock attribute, multiple rows of the DataFrame will be return, not as a new series, but as a new DataFrame.",
      "metadata": {}
    },
    {
      "cell_type": "code",
      "source": "df.loc['Student 1']",
      "metadata": {
        "trusted": true
      },
      "outputs": [
        {
          "execution_count": 12,
          "output_type": "execute_result",
          "data": {
            "text/plain": "Name       Shaurya\nBranch        AIML\nRoll No         25\nName: Student 1, dtype: object"
          },
          "metadata": {}
        }
      ],
      "execution_count": 12
    },
    {
      "cell_type": "code",
      "source": "type(df.loc['Student 2'])",
      "metadata": {
        "trusted": true
      },
      "outputs": [
        {
          "execution_count": 13,
          "output_type": "execute_result",
          "data": {
            "text/plain": "pandas.core.series.Series"
          },
          "metadata": {}
        }
      ],
      "execution_count": 13
    },
    {
      "cell_type": "code",
      "source": "#If we want to get specific data we need two parameters row and column name\ndf.loc['Student 1','Roll No']",
      "metadata": {
        "trusted": true
      },
      "outputs": [
        {
          "execution_count": 14,
          "output_type": "execute_result",
          "data": {
            "text/plain": "25"
          },
          "metadata": {}
        }
      ],
      "execution_count": 14
    },
    {
      "cell_type": "code",
      "source": "#What we can do if we want to retrieve a column.\n#1) Transpose Matrix and  then retrieve data using loc \ndf.T",
      "metadata": {
        "trusted": true
      },
      "outputs": [
        {
          "execution_count": 15,
          "output_type": "execute_result",
          "data": {
            "text/plain": "        Student 1 Student 2 Student 3\nName      Shaurya     Ayush    Madhur\nBranch       AIML       CSE       ECE\nRoll No        25        15        10",
            "text/html": "<div>\n<style scoped>\n    .dataframe tbody tr th:only-of-type {\n        vertical-align: middle;\n    }\n\n    .dataframe tbody tr th {\n        vertical-align: top;\n    }\n\n    .dataframe thead th {\n        text-align: right;\n    }\n</style>\n<table border=\"1\" class=\"dataframe\">\n  <thead>\n    <tr style=\"text-align: right;\">\n      <th></th>\n      <th>Student 1</th>\n      <th>Student 2</th>\n      <th>Student 3</th>\n    </tr>\n  </thead>\n  <tbody>\n    <tr>\n      <th>Name</th>\n      <td>Shaurya</td>\n      <td>Ayush</td>\n      <td>Madhur</td>\n    </tr>\n    <tr>\n      <th>Branch</th>\n      <td>AIML</td>\n      <td>CSE</td>\n      <td>ECE</td>\n    </tr>\n    <tr>\n      <th>Roll No</th>\n      <td>25</td>\n      <td>15</td>\n      <td>10</td>\n    </tr>\n  </tbody>\n</table>\n</div>"
          },
          "metadata": {}
        }
      ],
      "execution_count": 15
    },
    {
      "cell_type": "code",
      "source": "df.T.loc['Name']",
      "metadata": {
        "trusted": true
      },
      "outputs": [
        {
          "execution_count": 17,
          "output_type": "execute_result",
          "data": {
            "text/plain": "Student 1    Shaurya\nStudent 2      Ayush\nStudent 3     Madhur\nName: Name, dtype: object"
          },
          "metadata": {}
        }
      ],
      "execution_count": 17
    },
    {
      "cell_type": "markdown",
      "source": "Imp -> loc and iloc used for row selection if we want to select columns we can use indexing operators.",
      "metadata": {}
    },
    {
      "cell_type": "code",
      "source": "df",
      "metadata": {
        "trusted": true
      },
      "outputs": [
        {
          "execution_count": 18,
          "output_type": "execute_result",
          "data": {
            "text/plain": "              Name Branch  Roll No\nStudent 1  Shaurya   AIML       25\nStudent 2    Ayush    CSE       15\nStudent 3   Madhur    ECE       10",
            "text/html": "<div>\n<style scoped>\n    .dataframe tbody tr th:only-of-type {\n        vertical-align: middle;\n    }\n\n    .dataframe tbody tr th {\n        vertical-align: top;\n    }\n\n    .dataframe thead th {\n        text-align: right;\n    }\n</style>\n<table border=\"1\" class=\"dataframe\">\n  <thead>\n    <tr style=\"text-align: right;\">\n      <th></th>\n      <th>Name</th>\n      <th>Branch</th>\n      <th>Roll No</th>\n    </tr>\n  </thead>\n  <tbody>\n    <tr>\n      <th>Student 1</th>\n      <td>Shaurya</td>\n      <td>AIML</td>\n      <td>25</td>\n    </tr>\n    <tr>\n      <th>Student 2</th>\n      <td>Ayush</td>\n      <td>CSE</td>\n      <td>15</td>\n    </tr>\n    <tr>\n      <th>Student 3</th>\n      <td>Madhur</td>\n      <td>ECE</td>\n      <td>10</td>\n    </tr>\n  </tbody>\n</table>\n</div>"
          },
          "metadata": {}
        }
      ],
      "execution_count": 18
    },
    {
      "cell_type": "code",
      "source": "df['Name']",
      "metadata": {
        "trusted": true
      },
      "outputs": [
        {
          "execution_count": 19,
          "output_type": "execute_result",
          "data": {
            "text/plain": "Student 1    Shaurya\nStudent 2      Ayush\nStudent 3     Madhur\nName: Name, dtype: object"
          },
          "metadata": {}
        }
      ],
      "execution_count": 19
    },
    {
      "cell_type": "code",
      "source": "#If we want to get only branch and roll no we can use chaining (: can be used for slicing)\ndf.loc[:,['Branch','Roll No']]",
      "metadata": {
        "trusted": true
      },
      "outputs": [
        {
          "execution_count": 21,
          "output_type": "execute_result",
          "data": {
            "text/plain": "          Branch  Roll No\nStudent 1   AIML       25\nStudent 2    CSE       15\nStudent 3    ECE       10",
            "text/html": "<div>\n<style scoped>\n    .dataframe tbody tr th:only-of-type {\n        vertical-align: middle;\n    }\n\n    .dataframe tbody tr th {\n        vertical-align: top;\n    }\n\n    .dataframe thead th {\n        text-align: right;\n    }\n</style>\n<table border=\"1\" class=\"dataframe\">\n  <thead>\n    <tr style=\"text-align: right;\">\n      <th></th>\n      <th>Branch</th>\n      <th>Roll No</th>\n    </tr>\n  </thead>\n  <tbody>\n    <tr>\n      <th>Student 1</th>\n      <td>AIML</td>\n      <td>25</td>\n    </tr>\n    <tr>\n      <th>Student 2</th>\n      <td>CSE</td>\n      <td>15</td>\n    </tr>\n    <tr>\n      <th>Student 3</th>\n      <td>ECE</td>\n      <td>10</td>\n    </tr>\n  </tbody>\n</table>\n</div>"
          },
          "metadata": {}
        }
      ],
      "execution_count": 21
    },
    {
      "cell_type": "markdown",
      "source": "Dropping data. It's easy to delete data in series and DataFrames, and we can use the drop function to do so. This function takes a single parameter, which is the index or row label to draw. This another tricky place for new users. The drop function doesn't actually change the DataFrame by default, instead the drop function returns to you a copy of the DataFrame with the given rows removed. ",
      "metadata": {}
    },
    {
      "cell_type": "code",
      "source": "df.drop('Student 2')",
      "metadata": {
        "trusted": true
      },
      "outputs": [
        {
          "execution_count": 22,
          "output_type": "execute_result",
          "data": {
            "text/plain": "              Name Branch  Roll No\nStudent 1  Shaurya   AIML       25\nStudent 3   Madhur    ECE       10",
            "text/html": "<div>\n<style scoped>\n    .dataframe tbody tr th:only-of-type {\n        vertical-align: middle;\n    }\n\n    .dataframe tbody tr th {\n        vertical-align: top;\n    }\n\n    .dataframe thead th {\n        text-align: right;\n    }\n</style>\n<table border=\"1\" class=\"dataframe\">\n  <thead>\n    <tr style=\"text-align: right;\">\n      <th></th>\n      <th>Name</th>\n      <th>Branch</th>\n      <th>Roll No</th>\n    </tr>\n  </thead>\n  <tbody>\n    <tr>\n      <th>Student 1</th>\n      <td>Shaurya</td>\n      <td>AIML</td>\n      <td>25</td>\n    </tr>\n    <tr>\n      <th>Student 3</th>\n      <td>Madhur</td>\n      <td>ECE</td>\n      <td>10</td>\n    </tr>\n  </tbody>\n</table>\n</div>"
          },
          "metadata": {}
        }
      ],
      "execution_count": 22
    },
    {
      "cell_type": "code",
      "source": "df\n",
      "metadata": {
        "trusted": true
      },
      "outputs": [
        {
          "execution_count": 23,
          "output_type": "execute_result",
          "data": {
            "text/plain": "              Name Branch  Roll No\nStudent 1  Shaurya   AIML       25\nStudent 2    Ayush    CSE       15\nStudent 3   Madhur    ECE       10",
            "text/html": "<div>\n<style scoped>\n    .dataframe tbody tr th:only-of-type {\n        vertical-align: middle;\n    }\n\n    .dataframe tbody tr th {\n        vertical-align: top;\n    }\n\n    .dataframe thead th {\n        text-align: right;\n    }\n</style>\n<table border=\"1\" class=\"dataframe\">\n  <thead>\n    <tr style=\"text-align: right;\">\n      <th></th>\n      <th>Name</th>\n      <th>Branch</th>\n      <th>Roll No</th>\n    </tr>\n  </thead>\n  <tbody>\n    <tr>\n      <th>Student 1</th>\n      <td>Shaurya</td>\n      <td>AIML</td>\n      <td>25</td>\n    </tr>\n    <tr>\n      <th>Student 2</th>\n      <td>Ayush</td>\n      <td>CSE</td>\n      <td>15</td>\n    </tr>\n    <tr>\n      <th>Student 3</th>\n      <td>Madhur</td>\n      <td>ECE</td>\n      <td>10</td>\n    </tr>\n  </tbody>\n</table>\n</div>"
          },
          "metadata": {}
        }
      ],
      "execution_count": 23
    },
    {
      "cell_type": "markdown",
      "source": "Drop has two interesting optional parameters. The first is called in-place, and if it's set to true, the DataFrame will be updated in place instead of a copy being returned. The second parameter is the axes, which should be dropped. By default this value is zero, indicating the row axis. But you can change it to one if you wanted to drop a column. For example, let's make a copy of the DataFrame using the.copy function. So copy_df equals df.copy. Let's drop the name column in this copy. So copy df.drop, we say the column we want to drop name, we say in-place equals the true, and then we set the axis because, it doesn't know that this is a column. We set the axis equal to one to tell it that this is named column, and then printout copy_df. There is a second way to drop a column, and that's directly through the use of the indexing operator, using the del keyword.",
      "metadata": {}
    },
    {
      "cell_type": "code",
      "source": "copy_df = df.copy() #Make a copy of df to demonstrate drop\ncopy_df.drop('Student 1',inplace=True)\ncopy_df",
      "metadata": {
        "trusted": true
      },
      "outputs": [
        {
          "execution_count": 27,
          "output_type": "execute_result",
          "data": {
            "text/plain": "             Name Branch  Roll No\nStudent 2   Ayush    CSE       15\nStudent 3  Madhur    ECE       10",
            "text/html": "<div>\n<style scoped>\n    .dataframe tbody tr th:only-of-type {\n        vertical-align: middle;\n    }\n\n    .dataframe tbody tr th {\n        vertical-align: top;\n    }\n\n    .dataframe thead th {\n        text-align: right;\n    }\n</style>\n<table border=\"1\" class=\"dataframe\">\n  <thead>\n    <tr style=\"text-align: right;\">\n      <th></th>\n      <th>Name</th>\n      <th>Branch</th>\n      <th>Roll No</th>\n    </tr>\n  </thead>\n  <tbody>\n    <tr>\n      <th>Student 2</th>\n      <td>Ayush</td>\n      <td>CSE</td>\n      <td>15</td>\n    </tr>\n    <tr>\n      <th>Student 3</th>\n      <td>Madhur</td>\n      <td>ECE</td>\n      <td>10</td>\n    </tr>\n  </tbody>\n</table>\n</div>"
          },
          "metadata": {}
        }
      ],
      "execution_count": 27
    },
    {
      "cell_type": "code",
      "source": "df\n",
      "metadata": {
        "trusted": true
      },
      "outputs": [
        {
          "execution_count": 28,
          "output_type": "execute_result",
          "data": {
            "text/plain": "              Name Branch  Roll No\nStudent 1  Shaurya   AIML       25\nStudent 2    Ayush    CSE       15\nStudent 3   Madhur    ECE       10",
            "text/html": "<div>\n<style scoped>\n    .dataframe tbody tr th:only-of-type {\n        vertical-align: middle;\n    }\n\n    .dataframe tbody tr th {\n        vertical-align: top;\n    }\n\n    .dataframe thead th {\n        text-align: right;\n    }\n</style>\n<table border=\"1\" class=\"dataframe\">\n  <thead>\n    <tr style=\"text-align: right;\">\n      <th></th>\n      <th>Name</th>\n      <th>Branch</th>\n      <th>Roll No</th>\n    </tr>\n  </thead>\n  <tbody>\n    <tr>\n      <th>Student 1</th>\n      <td>Shaurya</td>\n      <td>AIML</td>\n      <td>25</td>\n    </tr>\n    <tr>\n      <th>Student 2</th>\n      <td>Ayush</td>\n      <td>CSE</td>\n      <td>15</td>\n    </tr>\n    <tr>\n      <th>Student 3</th>\n      <td>Madhur</td>\n      <td>ECE</td>\n      <td>10</td>\n    </tr>\n  </tbody>\n</table>\n</div>"
          },
          "metadata": {}
        }
      ],
      "execution_count": 28
    },
    {
      "cell_type": "code",
      "source": "#Adding A New Column or set some default values.\nis_present = [True,False,True]\ndf['Attendance']=is_present\ndf",
      "metadata": {
        "trusted": true
      },
      "outputs": [
        {
          "execution_count": 30,
          "output_type": "execute_result",
          "data": {
            "text/plain": "              Name Branch  Roll No  Attendance\nStudent 1  Shaurya   AIML       25        True\nStudent 2    Ayush    CSE       15       False\nStudent 3   Madhur    ECE       10        True",
            "text/html": "<div>\n<style scoped>\n    .dataframe tbody tr th:only-of-type {\n        vertical-align: middle;\n    }\n\n    .dataframe tbody tr th {\n        vertical-align: top;\n    }\n\n    .dataframe thead th {\n        text-align: right;\n    }\n</style>\n<table border=\"1\" class=\"dataframe\">\n  <thead>\n    <tr style=\"text-align: right;\">\n      <th></th>\n      <th>Name</th>\n      <th>Branch</th>\n      <th>Roll No</th>\n      <th>Attendance</th>\n    </tr>\n  </thead>\n  <tbody>\n    <tr>\n      <th>Student 1</th>\n      <td>Shaurya</td>\n      <td>AIML</td>\n      <td>25</td>\n      <td>True</td>\n    </tr>\n    <tr>\n      <th>Student 2</th>\n      <td>Ayush</td>\n      <td>CSE</td>\n      <td>15</td>\n      <td>False</td>\n    </tr>\n    <tr>\n      <th>Student 3</th>\n      <td>Madhur</td>\n      <td>ECE</td>\n      <td>10</td>\n      <td>True</td>\n    </tr>\n  </tbody>\n</table>\n</div>"
          },
          "metadata": {}
        }
      ],
      "execution_count": 30
    },
    {
      "cell_type": "code",
      "source": "#To set a value same for all\ndf[\"Ready For Freshers\"]=\"No\"\ndf",
      "metadata": {
        "trusted": true
      },
      "outputs": [
        {
          "execution_count": 31,
          "output_type": "execute_result",
          "data": {
            "text/plain": "              Name Branch  Roll No  Attendance Ready For Freshers\nStudent 1  Shaurya   AIML       25        True                 No\nStudent 2    Ayush    CSE       15       False                 No\nStudent 3   Madhur    ECE       10        True                 No",
            "text/html": "<div>\n<style scoped>\n    .dataframe tbody tr th:only-of-type {\n        vertical-align: middle;\n    }\n\n    .dataframe tbody tr th {\n        vertical-align: top;\n    }\n\n    .dataframe thead th {\n        text-align: right;\n    }\n</style>\n<table border=\"1\" class=\"dataframe\">\n  <thead>\n    <tr style=\"text-align: right;\">\n      <th></th>\n      <th>Name</th>\n      <th>Branch</th>\n      <th>Roll No</th>\n      <th>Attendance</th>\n      <th>Ready For Freshers</th>\n    </tr>\n  </thead>\n  <tbody>\n    <tr>\n      <th>Student 1</th>\n      <td>Shaurya</td>\n      <td>AIML</td>\n      <td>25</td>\n      <td>True</td>\n      <td>No</td>\n    </tr>\n    <tr>\n      <th>Student 2</th>\n      <td>Ayush</td>\n      <td>CSE</td>\n      <td>15</td>\n      <td>False</td>\n      <td>No</td>\n    </tr>\n    <tr>\n      <th>Student 3</th>\n      <td>Madhur</td>\n      <td>ECE</td>\n      <td>10</td>\n      <td>True</td>\n      <td>No</td>\n    </tr>\n  </tbody>\n</table>\n</div>"
          },
          "metadata": {}
        }
      ],
      "execution_count": 31
    },
    {
      "cell_type": "markdown",
      "source": "#END OF DATAFRAME PART - 1",
      "metadata": {}
    }
  ]
}