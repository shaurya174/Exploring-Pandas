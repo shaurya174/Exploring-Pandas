{
  "metadata": {
    "kernelspec": {
      "name": "python",
      "display_name": "Python (Pyodide)",
      "language": "python"
    },
    "language_info": {
      "codemirror_mode": {
        "name": "python",
        "version": 3
      },
      "file_extension": ".py",
      "mimetype": "text/x-python",
      "name": "python",
      "nbconvert_exporter": "python",
      "pygments_lexer": "ipython3",
      "version": "3.8"
    }
  },
  "nbformat_minor": 4,
  "nbformat": 4,
  "cells": [
    {
      "cell_type": "markdown",
      "source": "#LET'S GO THROUGH EXAMPLE OF DATA CLEANING",
      "metadata": {}
    },
    {
      "cell_type": "code",
      "source": "import pandas as pd\ndf = pd.read_csv('indian_pm_list.csv')\ndf",
      "metadata": {
        "trusted": true
      },
      "outputs": [
        {
          "execution_count": 20,
          "output_type": "execute_result",
          "data": {
            "text/plain": "   Serial No.               Name of PM  Age at Start  Age at End  \\\n0           1         Jawaharlal Nehru            58        74.0   \n1           2      Lal Bahadur Shastri            60        61.0   \n2           3            Indira Gandhi            48        66.0   \n3           4            Morarji Desai            81        83.0   \n4           5             Rajiv Gandhi            40        46.0   \n5           6  Vishwanath Pratap Singh            58        59.0   \n6           7      P. V. Narasimha Rao            70        75.0   \n7           8     Atal Bihari Vajpayee            73        79.0   \n8           9           Manmohan Singh            72        82.0   \n9          10            Narendra Modi            63         NaN   \n\n       Time in Office   Date of Death  Age at Death  \n0  16 years, 286 days    May 27, 1964          74.0  \n1    1 year, 216 days    Jan 11, 1966          61.0  \n2  15 years, 350 days    Oct 31, 1984          66.0  \n3   2 years, 126 days  April 10, 1995          99.0  \n4    5 years, 32 days    May 21, 1991          46.0  \n5            343 days    Nov 27, 2008          77.0  \n6   4 years, 330 days    Dec 23, 2004          83.0  \n7    6 years, 64 days    Aug 16, 2018          93.0  \n8    10 years, 4 days             NaN           NaN  \n9           10 years+             NaN           NaN  ",
            "text/html": "<div>\n<style scoped>\n    .dataframe tbody tr th:only-of-type {\n        vertical-align: middle;\n    }\n\n    .dataframe tbody tr th {\n        vertical-align: top;\n    }\n\n    .dataframe thead th {\n        text-align: right;\n    }\n</style>\n<table border=\"1\" class=\"dataframe\">\n  <thead>\n    <tr style=\"text-align: right;\">\n      <th></th>\n      <th>Serial No.</th>\n      <th>Name of PM</th>\n      <th>Age at Start</th>\n      <th>Age at End</th>\n      <th>Time in Office</th>\n      <th>Date of Death</th>\n      <th>Age at Death</th>\n    </tr>\n  </thead>\n  <tbody>\n    <tr>\n      <th>0</th>\n      <td>1</td>\n      <td>Jawaharlal Nehru</td>\n      <td>58</td>\n      <td>74.0</td>\n      <td>16 years, 286 days</td>\n      <td>May 27, 1964</td>\n      <td>74.0</td>\n    </tr>\n    <tr>\n      <th>1</th>\n      <td>2</td>\n      <td>Lal Bahadur Shastri</td>\n      <td>60</td>\n      <td>61.0</td>\n      <td>1 year, 216 days</td>\n      <td>Jan 11, 1966</td>\n      <td>61.0</td>\n    </tr>\n    <tr>\n      <th>2</th>\n      <td>3</td>\n      <td>Indira Gandhi</td>\n      <td>48</td>\n      <td>66.0</td>\n      <td>15 years, 350 days</td>\n      <td>Oct 31, 1984</td>\n      <td>66.0</td>\n    </tr>\n    <tr>\n      <th>3</th>\n      <td>4</td>\n      <td>Morarji Desai</td>\n      <td>81</td>\n      <td>83.0</td>\n      <td>2 years, 126 days</td>\n      <td>April 10, 1995</td>\n      <td>99.0</td>\n    </tr>\n    <tr>\n      <th>4</th>\n      <td>5</td>\n      <td>Rajiv Gandhi</td>\n      <td>40</td>\n      <td>46.0</td>\n      <td>5 years, 32 days</td>\n      <td>May 21, 1991</td>\n      <td>46.0</td>\n    </tr>\n    <tr>\n      <th>5</th>\n      <td>6</td>\n      <td>Vishwanath Pratap Singh</td>\n      <td>58</td>\n      <td>59.0</td>\n      <td>343 days</td>\n      <td>Nov 27, 2008</td>\n      <td>77.0</td>\n    </tr>\n    <tr>\n      <th>6</th>\n      <td>7</td>\n      <td>P. V. Narasimha Rao</td>\n      <td>70</td>\n      <td>75.0</td>\n      <td>4 years, 330 days</td>\n      <td>Dec 23, 2004</td>\n      <td>83.0</td>\n    </tr>\n    <tr>\n      <th>7</th>\n      <td>8</td>\n      <td>Atal Bihari Vajpayee</td>\n      <td>73</td>\n      <td>79.0</td>\n      <td>6 years, 64 days</td>\n      <td>Aug 16, 2018</td>\n      <td>93.0</td>\n    </tr>\n    <tr>\n      <th>8</th>\n      <td>9</td>\n      <td>Manmohan Singh</td>\n      <td>72</td>\n      <td>82.0</td>\n      <td>10 years, 4 days</td>\n      <td>NaN</td>\n      <td>NaN</td>\n    </tr>\n    <tr>\n      <th>9</th>\n      <td>10</td>\n      <td>Narendra Modi</td>\n      <td>63</td>\n      <td>NaN</td>\n      <td>10 years+</td>\n      <td>NaN</td>\n      <td>NaN</td>\n    </tr>\n  </tbody>\n</table>\n</div>"
          },
          "metadata": {}
        }
      ],
      "execution_count": 20
    },
    {
      "cell_type": "code",
      "source": "#Let us create two columns first and last names\n#In case of P.V Narsimha Rao we will create separate way.\nuser_list = list(df['Name of PM'])\nuser_list",
      "metadata": {
        "trusted": true
      },
      "outputs": [
        {
          "execution_count": 26,
          "output_type": "execute_result",
          "data": {
            "text/plain": "['Jawaharlal Nehru',\n 'Lal Bahadur Shastri',\n 'Indira Gandhi',\n 'Morarji Desai',\n 'Rajiv Gandhi',\n 'Vishwanath Pratap Singh',\n 'P. V. Narasimha Rao',\n 'Atal Bihari Vajpayee',\n 'Manmohan Singh',\n 'Narendra Modi']"
          },
          "metadata": {}
        }
      ],
      "execution_count": 26
    },
    {
      "cell_type": "code",
      "source": "first_names=[]\nlast_names=[]\nfor i in user_list:\n    name_list = i.split(' ')\n    first_names.append(name_list[0])\n    last_names.append(name_list[1])\nprint(first_names)\nprint(last_names)",
      "metadata": {
        "trusted": true
      },
      "outputs": [
        {
          "name": "stdout",
          "text": "['Jawaharlal', 'Lal', 'Indira', 'Morarji', 'Rajiv', 'Vishwanath', 'P.', 'Atal', 'Manmohan', 'Narendra']\n['Nehru', 'Bahadur', 'Gandhi', 'Desai', 'Gandhi', 'Pratap', 'V.', 'Bihari', 'Singh', 'Modi']\n",
          "output_type": "stream"
        }
      ],
      "execution_count": 28
    },
    {
      "cell_type": "code",
      "source": "df['First']=first_names\ndf['Last']=last_names\ndf",
      "metadata": {
        "trusted": true
      },
      "outputs": [
        {
          "execution_count": 29,
          "output_type": "execute_result",
          "data": {
            "text/plain": "   Serial No.               Name of PM  Age at Start  Age at End  \\\n0           1         Jawaharlal Nehru            58        74.0   \n1           2      Lal Bahadur Shastri            60        61.0   \n2           3            Indira Gandhi            48        66.0   \n3           4            Morarji Desai            81        83.0   \n4           5             Rajiv Gandhi            40        46.0   \n5           6  Vishwanath Pratap Singh            58        59.0   \n6           7      P. V. Narasimha Rao            70        75.0   \n7           8     Atal Bihari Vajpayee            73        79.0   \n8           9           Manmohan Singh            72        82.0   \n9          10            Narendra Modi            63         NaN   \n\n       Time in Office   Date of Death  Age at Death       First     Last  \n0  16 years, 286 days    May 27, 1964          74.0  Jawaharlal    Nehru  \n1    1 year, 216 days    Jan 11, 1966          61.0         Lal  Bahadur  \n2  15 years, 350 days    Oct 31, 1984          66.0      Indira   Gandhi  \n3   2 years, 126 days  April 10, 1995          99.0     Morarji    Desai  \n4    5 years, 32 days    May 21, 1991          46.0       Rajiv   Gandhi  \n5            343 days    Nov 27, 2008          77.0  Vishwanath   Pratap  \n6   4 years, 330 days    Dec 23, 2004          83.0          P.       V.  \n7    6 years, 64 days    Aug 16, 2018          93.0        Atal   Bihari  \n8    10 years, 4 days             NaN           NaN    Manmohan    Singh  \n9           10 years+             NaN           NaN    Narendra     Modi  ",
            "text/html": "<div>\n<style scoped>\n    .dataframe tbody tr th:only-of-type {\n        vertical-align: middle;\n    }\n\n    .dataframe tbody tr th {\n        vertical-align: top;\n    }\n\n    .dataframe thead th {\n        text-align: right;\n    }\n</style>\n<table border=\"1\" class=\"dataframe\">\n  <thead>\n    <tr style=\"text-align: right;\">\n      <th></th>\n      <th>Serial No.</th>\n      <th>Name of PM</th>\n      <th>Age at Start</th>\n      <th>Age at End</th>\n      <th>Time in Office</th>\n      <th>Date of Death</th>\n      <th>Age at Death</th>\n      <th>First</th>\n      <th>Last</th>\n    </tr>\n  </thead>\n  <tbody>\n    <tr>\n      <th>0</th>\n      <td>1</td>\n      <td>Jawaharlal Nehru</td>\n      <td>58</td>\n      <td>74.0</td>\n      <td>16 years, 286 days</td>\n      <td>May 27, 1964</td>\n      <td>74.0</td>\n      <td>Jawaharlal</td>\n      <td>Nehru</td>\n    </tr>\n    <tr>\n      <th>1</th>\n      <td>2</td>\n      <td>Lal Bahadur Shastri</td>\n      <td>60</td>\n      <td>61.0</td>\n      <td>1 year, 216 days</td>\n      <td>Jan 11, 1966</td>\n      <td>61.0</td>\n      <td>Lal</td>\n      <td>Bahadur</td>\n    </tr>\n    <tr>\n      <th>2</th>\n      <td>3</td>\n      <td>Indira Gandhi</td>\n      <td>48</td>\n      <td>66.0</td>\n      <td>15 years, 350 days</td>\n      <td>Oct 31, 1984</td>\n      <td>66.0</td>\n      <td>Indira</td>\n      <td>Gandhi</td>\n    </tr>\n    <tr>\n      <th>3</th>\n      <td>4</td>\n      <td>Morarji Desai</td>\n      <td>81</td>\n      <td>83.0</td>\n      <td>2 years, 126 days</td>\n      <td>April 10, 1995</td>\n      <td>99.0</td>\n      <td>Morarji</td>\n      <td>Desai</td>\n    </tr>\n    <tr>\n      <th>4</th>\n      <td>5</td>\n      <td>Rajiv Gandhi</td>\n      <td>40</td>\n      <td>46.0</td>\n      <td>5 years, 32 days</td>\n      <td>May 21, 1991</td>\n      <td>46.0</td>\n      <td>Rajiv</td>\n      <td>Gandhi</td>\n    </tr>\n    <tr>\n      <th>5</th>\n      <td>6</td>\n      <td>Vishwanath Pratap Singh</td>\n      <td>58</td>\n      <td>59.0</td>\n      <td>343 days</td>\n      <td>Nov 27, 2008</td>\n      <td>77.0</td>\n      <td>Vishwanath</td>\n      <td>Pratap</td>\n    </tr>\n    <tr>\n      <th>6</th>\n      <td>7</td>\n      <td>P. V. Narasimha Rao</td>\n      <td>70</td>\n      <td>75.0</td>\n      <td>4 years, 330 days</td>\n      <td>Dec 23, 2004</td>\n      <td>83.0</td>\n      <td>P.</td>\n      <td>V.</td>\n    </tr>\n    <tr>\n      <th>7</th>\n      <td>8</td>\n      <td>Atal Bihari Vajpayee</td>\n      <td>73</td>\n      <td>79.0</td>\n      <td>6 years, 64 days</td>\n      <td>Aug 16, 2018</td>\n      <td>93.0</td>\n      <td>Atal</td>\n      <td>Bihari</td>\n    </tr>\n    <tr>\n      <th>8</th>\n      <td>9</td>\n      <td>Manmohan Singh</td>\n      <td>72</td>\n      <td>82.0</td>\n      <td>10 years, 4 days</td>\n      <td>NaN</td>\n      <td>NaN</td>\n      <td>Manmohan</td>\n      <td>Singh</td>\n    </tr>\n    <tr>\n      <th>9</th>\n      <td>10</td>\n      <td>Narendra Modi</td>\n      <td>63</td>\n      <td>NaN</td>\n      <td>10 years+</td>\n      <td>NaN</td>\n      <td>NaN</td>\n      <td>Narendra</td>\n      <td>Modi</td>\n    </tr>\n  </tbody>\n</table>\n</div>"
          },
          "metadata": {}
        }
      ],
      "execution_count": 29
    },
    {
      "cell_type": "code",
      "source": "#For Index 6\ninfo=list(df.loc[6])\ninfo",
      "metadata": {
        "trusted": true
      },
      "outputs": [
        {
          "execution_count": 33,
          "output_type": "execute_result",
          "data": {
            "text/plain": "[7,\n 'P. V. Narasimha Rao',\n 70,\n 75.0,\n '4 years, 330 days',\n 'Dec 23, 2004',\n 83.0,\n 'P.',\n 'V.']"
          },
          "metadata": {}
        }
      ],
      "execution_count": 33
    },
    {
      "cell_type": "code",
      "source": "#END OF DATAFRAMES",
      "metadata": {
        "trusted": true
      },
      "outputs": [],
      "execution_count": null
    }
  ]
}